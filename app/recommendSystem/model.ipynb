{
 "cells": [
  {
   "cell_type": "markdown",
   "metadata": {
    "id": "_FNZpP0NHbNm"
   },
   "source": [
    "<b><h1>Books Recommendation System"
   ]
  },
  {
   "cell_type": "code",
   "execution_count": 484,
   "metadata": {
    "executionInfo": {
     "elapsed": 1059,
     "status": "ok",
     "timestamp": 1623912080527,
     "user": {
      "displayName": "Ashima IIITD",
      "photoUrl": "https://lh3.googleusercontent.com/a-/AOh14Gg51iTXizYDNTZkEdwmQ5GkwRQ8vp_9KTB8UVlC=s64",
      "userId": "02694856405090268186"
     },
     "user_tz": -330
    },
    "id": "5i_ZACcBHbNp"
   },
   "outputs": [],
   "source": [
    "import re\n",
    "import pickle\n",
    "import joblib\n",
    "import operator\n",
    "import numpy as np\n",
    "import pandas as pd\n",
    "import seaborn as sns\n",
    "import matplotlib.pyplot as plt\n",
    "from scipy.sparse import save_npz\n",
    "from collections import Counter\n",
    "from scipy.sparse import csr_matrix\n",
    "from pandas.api.types import is_numeric_dtype\n",
    "from sklearn.neighbors import NearestNeighbors\n",
    "from sklearn.feature_extraction import DictVectorizer\n",
    "from sklearn.metrics.pairwise import cosine_similarity\n",
    "from sklearn.feature_extraction.text import TfidfVectorizer\n",
    "\n",
    "import warnings\n",
    "warnings.filterwarnings(\"ignore\")"
   ]
  },
  {
   "cell_type": "markdown",
   "metadata": {
    "id": "tHZLBBfiHbNy"
   },
   "source": [
    "<b><h3>Dataset"
   ]
  },
  {
   "cell_type": "code",
   "execution_count": 485,
   "metadata": {
    "colab": {
     "base_uri": "https://localhost:8080/"
    },
    "executionInfo": {
     "elapsed": 8655,
     "status": "ok",
     "timestamp": 1623912089180,
     "user": {
      "displayName": "Ashima IIITD",
      "photoUrl": "https://lh3.googleusercontent.com/a-/AOh14Gg51iTXizYDNTZkEdwmQ5GkwRQ8vp_9KTB8UVlC=s64",
      "userId": "02694856405090268186"
     },
     "user_tz": -330
    },
    "id": "XgvzNVu2HbNz",
    "outputId": "d875c6e1-1494-4f41-aed7-aa1361a39a80"
   },
   "outputs": [
    {
     "name": "stdout",
     "output_type": "stream",
     "text": [
      "Books Data:     (271379, 8)\n",
      "Users Data:     (278858, 3)\n",
      "Books-ratings:  (1149780, 3)\n"
     ]
    }
   ],
   "source": [
    "books = pd.read_csv(\"../data/BX_Books.csv\", delimiter=';',encoding='ISO-8859-1', on_bad_lines='skip')\n",
    "users = pd.read_csv(\"../data/BX-Users.csv\", delimiter=';',encoding='ISO-8859-1', on_bad_lines='skip')\n",
    "ratings = pd.read_csv(\"../data/BX-Book-Ratings.csv\", delimiter=';',encoding='ISO-8859-1', on_bad_lines='skip')\n",
    "\n",
    "print(\"Books Data:    \", books.shape)\n",
    "print(\"Users Data:    \", users.shape)\n",
    "print(\"Books-ratings: \", ratings.shape)"
   ]
  },
  {
   "cell_type": "markdown",
   "metadata": {
    "id": "85AzoW38PDI6"
   },
   "source": [
    "<b><h3>Pre-processing"
   ]
  },
  {
   "cell_type": "markdown",
   "metadata": {
    "id": "XvTKQiAYHbN4"
   },
   "source": [
    "<b>Books Dataset Pre-processing"
   ]
  },
  {
   "cell_type": "code",
   "execution_count": 486,
   "metadata": {
    "colab": {
     "base_uri": "https://localhost:8080/",
     "height": 357
    },
    "executionInfo": {
     "elapsed": 47,
     "status": "ok",
     "timestamp": 1623912089187,
     "user": {
      "displayName": "Ashima IIITD",
      "photoUrl": "https://lh3.googleusercontent.com/a-/AOh14Gg51iTXizYDNTZkEdwmQ5GkwRQ8vp_9KTB8UVlC=s64",
      "userId": "02694856405090268186"
     },
     "user_tz": -330
    },
    "id": "y5GmtiQJHbN4",
    "outputId": "c58a2b48-86e2-4efc-ca02-24d172425117"
   },
   "outputs": [
    {
     "name": "stdout",
     "output_type": "stream",
     "text": [
      "Columns:  ['ISBN', 'Book-Title', 'Book-Author', 'Year-Of-Publication', 'Publisher', 'Image-URL-S', 'Image-URL-M', 'Image-URL-L']\n"
     ]
    },
    {
     "data": {
      "text/html": [
       "<div>\n",
       "<style scoped>\n",
       "    .dataframe tbody tr th:only-of-type {\n",
       "        vertical-align: middle;\n",
       "    }\n",
       "\n",
       "    .dataframe tbody tr th {\n",
       "        vertical-align: top;\n",
       "    }\n",
       "\n",
       "    .dataframe thead th {\n",
       "        text-align: right;\n",
       "    }\n",
       "</style>\n",
       "<table border=\"1\" class=\"dataframe\">\n",
       "  <thead>\n",
       "    <tr style=\"text-align: right;\">\n",
       "      <th></th>\n",
       "      <th>ISBN</th>\n",
       "      <th>Book-Title</th>\n",
       "      <th>Book-Author</th>\n",
       "      <th>Year-Of-Publication</th>\n",
       "      <th>Publisher</th>\n",
       "      <th>Image-URL-S</th>\n",
       "      <th>Image-URL-M</th>\n",
       "      <th>Image-URL-L</th>\n",
       "    </tr>\n",
       "  </thead>\n",
       "  <tbody>\n",
       "    <tr>\n",
       "      <th>0</th>\n",
       "      <td>0195153448</td>\n",
       "      <td>Classical Mythology</td>\n",
       "      <td>Mark P. O. Morford</td>\n",
       "      <td>2002</td>\n",
       "      <td>Oxford University Press</td>\n",
       "      <td>http://images.amazon.com/images/P/0195153448.01.THUMBZZZ.jpg</td>\n",
       "      <td>http://images.amazon.com/images/P/0195153448.01.MZZZZZZZ.jpg</td>\n",
       "      <td>http://images.amazon.com/images/P/0195153448.01.LZZZZZZZ.jpg</td>\n",
       "    </tr>\n",
       "    <tr>\n",
       "      <th>1</th>\n",
       "      <td>0002005018</td>\n",
       "      <td>Clara Callan</td>\n",
       "      <td>Richard Bruce Wright</td>\n",
       "      <td>2001</td>\n",
       "      <td>HarperFlamingo Canada</td>\n",
       "      <td>http://images.amazon.com/images/P/0002005018.01.THUMBZZZ.jpg</td>\n",
       "      <td>http://images.amazon.com/images/P/0002005018.01.MZZZZZZZ.jpg</td>\n",
       "      <td>http://images.amazon.com/images/P/0002005018.01.LZZZZZZZ.jpg</td>\n",
       "    </tr>\n",
       "    <tr>\n",
       "      <th>2</th>\n",
       "      <td>0060973129</td>\n",
       "      <td>Decision in Normandy</td>\n",
       "      <td>Carlo D'Este</td>\n",
       "      <td>1991</td>\n",
       "      <td>HarperPerennial</td>\n",
       "      <td>http://images.amazon.com/images/P/0060973129.01.THUMBZZZ.jpg</td>\n",
       "      <td>http://images.amazon.com/images/P/0060973129.01.MZZZZZZZ.jpg</td>\n",
       "      <td>http://images.amazon.com/images/P/0060973129.01.LZZZZZZZ.jpg</td>\n",
       "    </tr>\n",
       "    <tr>\n",
       "      <th>3</th>\n",
       "      <td>0374157065</td>\n",
       "      <td>Flu: The Story of the Great Influenza Pandemic of 1918 and the Search for the Virus That Caused It</td>\n",
       "      <td>Gina Bari Kolata</td>\n",
       "      <td>1999</td>\n",
       "      <td>Farrar Straus Giroux</td>\n",
       "      <td>http://images.amazon.com/images/P/0374157065.01.THUMBZZZ.jpg</td>\n",
       "      <td>http://images.amazon.com/images/P/0374157065.01.MZZZZZZZ.jpg</td>\n",
       "      <td>http://images.amazon.com/images/P/0374157065.01.LZZZZZZZ.jpg</td>\n",
       "    </tr>\n",
       "    <tr>\n",
       "      <th>4</th>\n",
       "      <td>0393045218</td>\n",
       "      <td>The Mummies of Urumchi</td>\n",
       "      <td>E. J. W. Barber</td>\n",
       "      <td>1999</td>\n",
       "      <td>W. W. Norton &amp; Company</td>\n",
       "      <td>http://images.amazon.com/images/P/0393045218.01.THUMBZZZ.jpg</td>\n",
       "      <td>http://images.amazon.com/images/P/0393045218.01.MZZZZZZZ.jpg</td>\n",
       "      <td>http://images.amazon.com/images/P/0393045218.01.LZZZZZZZ.jpg</td>\n",
       "    </tr>\n",
       "  </tbody>\n",
       "</table>\n",
       "</div>"
      ],
      "text/plain": [
       "         ISBN  \\\n",
       "0  0195153448   \n",
       "1  0002005018   \n",
       "2  0060973129   \n",
       "3  0374157065   \n",
       "4  0393045218   \n",
       "\n",
       "                                                                                           Book-Title  \\\n",
       "0                                                                                 Classical Mythology   \n",
       "1                                                                                        Clara Callan   \n",
       "2                                                                                Decision in Normandy   \n",
       "3  Flu: The Story of the Great Influenza Pandemic of 1918 and the Search for the Virus That Caused It   \n",
       "4                                                                              The Mummies of Urumchi   \n",
       "\n",
       "            Book-Author  Year-Of-Publication                Publisher  \\\n",
       "0    Mark P. O. Morford                 2002  Oxford University Press   \n",
       "1  Richard Bruce Wright                 2001    HarperFlamingo Canada   \n",
       "2          Carlo D'Este                 1991          HarperPerennial   \n",
       "3      Gina Bari Kolata                 1999     Farrar Straus Giroux   \n",
       "4       E. J. W. Barber                 1999   W. W. Norton & Company   \n",
       "\n",
       "                                                    Image-URL-S  \\\n",
       "0  http://images.amazon.com/images/P/0195153448.01.THUMBZZZ.jpg   \n",
       "1  http://images.amazon.com/images/P/0002005018.01.THUMBZZZ.jpg   \n",
       "2  http://images.amazon.com/images/P/0060973129.01.THUMBZZZ.jpg   \n",
       "3  http://images.amazon.com/images/P/0374157065.01.THUMBZZZ.jpg   \n",
       "4  http://images.amazon.com/images/P/0393045218.01.THUMBZZZ.jpg   \n",
       "\n",
       "                                                    Image-URL-M  \\\n",
       "0  http://images.amazon.com/images/P/0195153448.01.MZZZZZZZ.jpg   \n",
       "1  http://images.amazon.com/images/P/0002005018.01.MZZZZZZZ.jpg   \n",
       "2  http://images.amazon.com/images/P/0060973129.01.MZZZZZZZ.jpg   \n",
       "3  http://images.amazon.com/images/P/0374157065.01.MZZZZZZZ.jpg   \n",
       "4  http://images.amazon.com/images/P/0393045218.01.MZZZZZZZ.jpg   \n",
       "\n",
       "                                                    Image-URL-L  \n",
       "0  http://images.amazon.com/images/P/0195153448.01.LZZZZZZZ.jpg  \n",
       "1  http://images.amazon.com/images/P/0002005018.01.LZZZZZZZ.jpg  \n",
       "2  http://images.amazon.com/images/P/0060973129.01.LZZZZZZZ.jpg  \n",
       "3  http://images.amazon.com/images/P/0374157065.01.LZZZZZZZ.jpg  \n",
       "4  http://images.amazon.com/images/P/0393045218.01.LZZZZZZZ.jpg  "
      ]
     },
     "execution_count": 486,
     "metadata": {},
     "output_type": "execute_result"
    }
   ],
   "source": [
    "print(\"Columns: \", list(books.columns))\n",
    "books.head()"
   ]
  },
  {
   "cell_type": "code",
   "execution_count": 487,
   "metadata": {
    "colab": {
     "base_uri": "https://localhost:8080/",
     "height": 204
    },
    "executionInfo": {
     "elapsed": 33,
     "status": "ok",
     "timestamp": 1623912089188,
     "user": {
      "displayName": "Ashima IIITD",
      "photoUrl": "https://lh3.googleusercontent.com/a-/AOh14Gg51iTXizYDNTZkEdwmQ5GkwRQ8vp_9KTB8UVlC=s64",
      "userId": "02694856405090268186"
     },
     "user_tz": -330
    },
    "id": "x5FXDpgoHbN8",
    "outputId": "8cc385e8-9bf6-4a7a-d400-da19fad9201a"
   },
   "outputs": [
    {
     "name": "stdout",
     "output_type": "stream",
     "text": [
      "<class 'pandas.core.frame.DataFrame'>\n",
      "RangeIndex: 271379 entries, 0 to 271378\n",
      "Data columns (total 5 columns):\n",
      " #   Column               Non-Null Count   Dtype \n",
      "---  ------               --------------   ----- \n",
      " 0   ISBN                 271379 non-null  object\n",
      " 1   Book-Title           271379 non-null  object\n",
      " 2   Book-Author          271377 non-null  object\n",
      " 3   Year-Of-Publication  271379 non-null  int64 \n",
      " 4   Publisher            271377 non-null  object\n",
      "dtypes: int64(1), object(4)\n",
      "memory usage: 10.4+ MB\n"
     ]
    }
   ],
   "source": [
    "## Drop URL columns\n",
    "books.drop(['Image-URL-S', 'Image-URL-M', 'Image-URL-L'], axis=1, inplace=True)\n",
    "books.info()"
   ]
  },
  {
   "cell_type": "code",
   "execution_count": 488,
   "metadata": {},
   "outputs": [
    {
     "data": {
      "text/html": [
       "<div>\n",
       "<style scoped>\n",
       "    .dataframe tbody tr th:only-of-type {\n",
       "        vertical-align: middle;\n",
       "    }\n",
       "\n",
       "    .dataframe tbody tr th {\n",
       "        vertical-align: top;\n",
       "    }\n",
       "\n",
       "    .dataframe thead th {\n",
       "        text-align: right;\n",
       "    }\n",
       "</style>\n",
       "<table border=\"1\" class=\"dataframe\">\n",
       "  <thead>\n",
       "    <tr style=\"text-align: right;\">\n",
       "      <th></th>\n",
       "      <th>ISBN</th>\n",
       "      <th>Book-Title</th>\n",
       "      <th>Book-Author</th>\n",
       "      <th>Year-Of-Publication</th>\n",
       "      <th>Publisher</th>\n",
       "    </tr>\n",
       "  </thead>\n",
       "  <tbody>\n",
       "    <tr>\n",
       "      <th>0</th>\n",
       "      <td>0195153448</td>\n",
       "      <td>Classical Mythology</td>\n",
       "      <td>Mark P. O. Morford</td>\n",
       "      <td>2002</td>\n",
       "      <td>Oxford University Press</td>\n",
       "    </tr>\n",
       "    <tr>\n",
       "      <th>1</th>\n",
       "      <td>0002005018</td>\n",
       "      <td>Clara Callan</td>\n",
       "      <td>Richard Bruce Wright</td>\n",
       "      <td>2001</td>\n",
       "      <td>HarperFlamingo Canada</td>\n",
       "    </tr>\n",
       "    <tr>\n",
       "      <th>2</th>\n",
       "      <td>0060973129</td>\n",
       "      <td>Decision in Normandy</td>\n",
       "      <td>Carlo D'Este</td>\n",
       "      <td>1991</td>\n",
       "      <td>HarperPerennial</td>\n",
       "    </tr>\n",
       "    <tr>\n",
       "      <th>3</th>\n",
       "      <td>0374157065</td>\n",
       "      <td>Flu: The Story of the Great Influenza Pandemic of 1918 and the Search for the Virus That Caused It</td>\n",
       "      <td>Gina Bari Kolata</td>\n",
       "      <td>1999</td>\n",
       "      <td>Farrar Straus Giroux</td>\n",
       "    </tr>\n",
       "    <tr>\n",
       "      <th>4</th>\n",
       "      <td>0393045218</td>\n",
       "      <td>The Mummies of Urumchi</td>\n",
       "      <td>E. J. W. Barber</td>\n",
       "      <td>1999</td>\n",
       "      <td>W. W. Norton &amp; Company</td>\n",
       "    </tr>\n",
       "  </tbody>\n",
       "</table>\n",
       "</div>"
      ],
      "text/plain": [
       "         ISBN  \\\n",
       "0  0195153448   \n",
       "1  0002005018   \n",
       "2  0060973129   \n",
       "3  0374157065   \n",
       "4  0393045218   \n",
       "\n",
       "                                                                                           Book-Title  \\\n",
       "0                                                                                 Classical Mythology   \n",
       "1                                                                                        Clara Callan   \n",
       "2                                                                                Decision in Normandy   \n",
       "3  Flu: The Story of the Great Influenza Pandemic of 1918 and the Search for the Virus That Caused It   \n",
       "4                                                                              The Mummies of Urumchi   \n",
       "\n",
       "            Book-Author  Year-Of-Publication                Publisher  \n",
       "0    Mark P. O. Morford                 2002  Oxford University Press  \n",
       "1  Richard Bruce Wright                 2001    HarperFlamingo Canada  \n",
       "2          Carlo D'Este                 1991          HarperPerennial  \n",
       "3      Gina Bari Kolata                 1999     Farrar Straus Giroux  \n",
       "4       E. J. W. Barber                 1999   W. W. Norton & Company  "
      ]
     },
     "execution_count": 488,
     "metadata": {},
     "output_type": "execute_result"
    }
   ],
   "source": [
    "books.head()"
   ]
  },
  {
   "cell_type": "code",
   "execution_count": 489,
   "metadata": {
    "colab": {
     "base_uri": "https://localhost:8080/"
    },
    "executionInfo": {
     "elapsed": 33,
     "status": "ok",
     "timestamp": 1623912089189,
     "user": {
      "displayName": "Ashima IIITD",
      "photoUrl": "https://lh3.googleusercontent.com/a-/AOh14Gg51iTXizYDNTZkEdwmQ5GkwRQ8vp_9KTB8UVlC=s64",
      "userId": "02694856405090268186"
     },
     "user_tz": -330
    },
    "id": "7FRBFHbiHbN_",
    "outputId": "e024e560-35cf-4d9c-e4ca-bfcbd1219a5d"
   },
   "outputs": [
    {
     "data": {
      "text/plain": [
       "ISBN                   0\n",
       "Book-Title             0\n",
       "Book-Author            2\n",
       "Year-Of-Publication    0\n",
       "Publisher              2\n",
       "dtype: int64"
      ]
     },
     "execution_count": 489,
     "metadata": {},
     "output_type": "execute_result"
    }
   ],
   "source": [
    "books.isnull().sum() "
   ]
  },
  {
   "cell_type": "code",
   "execution_count": 490,
   "metadata": {
    "colab": {
     "base_uri": "https://localhost:8080/",
     "height": 80
    },
    "executionInfo": {
     "elapsed": 28,
     "status": "ok",
     "timestamp": 1623912089189,
     "user": {
      "displayName": "Ashima IIITD",
      "photoUrl": "https://lh3.googleusercontent.com/a-/AOh14Gg51iTXizYDNTZkEdwmQ5GkwRQ8vp_9KTB8UVlC=s64",
      "userId": "02694856405090268186"
     },
     "user_tz": -330
    },
    "id": "nWpbrzAyHbOB",
    "outputId": "2573da38-51f7-4555-fce7-f9fee0b9a78f"
   },
   "outputs": [
    {
     "data": {
      "text/html": [
       "<div>\n",
       "<style scoped>\n",
       "    .dataframe tbody tr th:only-of-type {\n",
       "        vertical-align: middle;\n",
       "    }\n",
       "\n",
       "    .dataframe tbody tr th {\n",
       "        vertical-align: top;\n",
       "    }\n",
       "\n",
       "    .dataframe thead th {\n",
       "        text-align: right;\n",
       "    }\n",
       "</style>\n",
       "<table border=\"1\" class=\"dataframe\">\n",
       "  <thead>\n",
       "    <tr style=\"text-align: right;\">\n",
       "      <th></th>\n",
       "      <th>ISBN</th>\n",
       "      <th>Book-Title</th>\n",
       "      <th>Book-Author</th>\n",
       "      <th>Year-Of-Publication</th>\n",
       "      <th>Publisher</th>\n",
       "    </tr>\n",
       "  </thead>\n",
       "  <tbody>\n",
       "    <tr>\n",
       "      <th>118038</th>\n",
       "      <td>0751352497</td>\n",
       "      <td>A+ Quiz Masters:01 Earth</td>\n",
       "      <td>NaN</td>\n",
       "      <td>1999</td>\n",
       "      <td>Dorling Kindersley</td>\n",
       "    </tr>\n",
       "    <tr>\n",
       "      <th>187700</th>\n",
       "      <td>9627982032</td>\n",
       "      <td>The Credit Suisse Guide to Managing Your Personal Wealth</td>\n",
       "      <td>NaN</td>\n",
       "      <td>1995</td>\n",
       "      <td>Edinburgh Financial Publishing</td>\n",
       "    </tr>\n",
       "  </tbody>\n",
       "</table>\n",
       "</div>"
      ],
      "text/plain": [
       "              ISBN                                                Book-Title  \\\n",
       "118038  0751352497                                  A+ Quiz Masters:01 Earth   \n",
       "187700  9627982032  The Credit Suisse Guide to Managing Your Personal Wealth   \n",
       "\n",
       "       Book-Author  Year-Of-Publication                       Publisher  \n",
       "118038         NaN                 1999              Dorling Kindersley  \n",
       "187700         NaN                 1995  Edinburgh Financial Publishing  "
      ]
     },
     "execution_count": 490,
     "metadata": {},
     "output_type": "execute_result"
    }
   ],
   "source": [
    "books.loc[books['Book-Author'].isnull(),:]"
   ]
  },
  {
   "cell_type": "code",
   "execution_count": 491,
   "metadata": {
    "colab": {
     "base_uri": "https://localhost:8080/",
     "height": 111
    },
    "executionInfo": {
     "elapsed": 28,
     "status": "ok",
     "timestamp": 1623912089190,
     "user": {
      "displayName": "Ashima IIITD",
      "photoUrl": "https://lh3.googleusercontent.com/a-/AOh14Gg51iTXizYDNTZkEdwmQ5GkwRQ8vp_9KTB8UVlC=s64",
      "userId": "02694856405090268186"
     },
     "user_tz": -330
    },
    "id": "qA3l-OrpHbOF",
    "outputId": "4f3bde52-9597-4272-ef45-a9b6eeba3950"
   },
   "outputs": [
    {
     "data": {
      "text/html": [
       "<div>\n",
       "<style scoped>\n",
       "    .dataframe tbody tr th:only-of-type {\n",
       "        vertical-align: middle;\n",
       "    }\n",
       "\n",
       "    .dataframe tbody tr th {\n",
       "        vertical-align: top;\n",
       "    }\n",
       "\n",
       "    .dataframe thead th {\n",
       "        text-align: right;\n",
       "    }\n",
       "</style>\n",
       "<table border=\"1\" class=\"dataframe\">\n",
       "  <thead>\n",
       "    <tr style=\"text-align: right;\">\n",
       "      <th></th>\n",
       "      <th>ISBN</th>\n",
       "      <th>Book-Title</th>\n",
       "      <th>Book-Author</th>\n",
       "      <th>Year-Of-Publication</th>\n",
       "      <th>Publisher</th>\n",
       "    </tr>\n",
       "  </thead>\n",
       "  <tbody>\n",
       "    <tr>\n",
       "      <th>128896</th>\n",
       "      <td>193169656X</td>\n",
       "      <td>Tyrant Moon</td>\n",
       "      <td>Elaine Corvidae</td>\n",
       "      <td>2002</td>\n",
       "      <td>NaN</td>\n",
       "    </tr>\n",
       "    <tr>\n",
       "      <th>129043</th>\n",
       "      <td>1931696993</td>\n",
       "      <td>Finders Keepers</td>\n",
       "      <td>Linnea Sinclair</td>\n",
       "      <td>2001</td>\n",
       "      <td>NaN</td>\n",
       "    </tr>\n",
       "  </tbody>\n",
       "</table>\n",
       "</div>"
      ],
      "text/plain": [
       "              ISBN       Book-Title      Book-Author  Year-Of-Publication  \\\n",
       "128896  193169656X      Tyrant Moon  Elaine Corvidae                 2002   \n",
       "129043  1931696993  Finders Keepers  Linnea Sinclair                 2001   \n",
       "\n",
       "       Publisher  \n",
       "128896       NaN  \n",
       "129043       NaN  "
      ]
     },
     "execution_count": 491,
     "metadata": {},
     "output_type": "execute_result"
    }
   ],
   "source": [
    "books.loc[books['Publisher'].isnull(),:]"
   ]
  },
  {
   "cell_type": "code",
   "execution_count": 492,
   "metadata": {
    "executionInfo": {
     "elapsed": 27,
     "status": "ok",
     "timestamp": 1623912089190,
     "user": {
      "displayName": "Ashima IIITD",
      "photoUrl": "https://lh3.googleusercontent.com/a-/AOh14Gg51iTXizYDNTZkEdwmQ5GkwRQ8vp_9KTB8UVlC=s64",
      "userId": "02694856405090268186"
     },
     "user_tz": -330
    },
    "id": "__WHZnoBHbOI"
   },
   "outputs": [],
   "source": [
    "books.at[118038 ,'Book-Author'] = 'Other'\n",
    "books.at[187700 ,'Book-Author'] = 'Other'\n",
    "\n",
    "books.at[128896 ,'Publisher'] = 'Other'\n",
    "books.at[129043 ,'Publisher'] = 'Other'"
   ]
  },
  {
   "cell_type": "code",
   "execution_count": 493,
   "metadata": {
    "colab": {
     "base_uri": "https://localhost:8080/"
    },
    "executionInfo": {
     "elapsed": 27,
     "status": "ok",
     "timestamp": 1623912089191,
     "user": {
      "displayName": "Ashima IIITD",
      "photoUrl": "https://lh3.googleusercontent.com/a-/AOh14Gg51iTXizYDNTZkEdwmQ5GkwRQ8vp_9KTB8UVlC=s64",
      "userId": "02694856405090268186"
     },
     "user_tz": -330
    },
    "id": "LN38SO2AHbON",
    "outputId": "bb6b44f4-d7ae-4a3f-b0c3-e7126e41c2f5"
   },
   "outputs": [
    {
     "name": "stdout",
     "output_type": "stream",
     "text": [
      "[   0 1376 1378 1806 1897 1900 1901 1902 1904 1906 1908 1909 1910 1911\n",
      " 1914 1917 1919 1920 1921 1922 1923 1924 1925 1926 1927 1928 1929 1930\n",
      " 1931 1932 1933 1934 1935 1936 1937 1938 1939 1940 1941 1942 1943 1944\n",
      " 1945 1946 1947 1948 1949 1950 1951 1952 1953 1954 1955 1956 1957 1958\n",
      " 1959 1960 1961 1962 1963 1964 1965 1966 1967 1968 1969 1970 1971 1972\n",
      " 1973 1974 1975 1976 1977 1978 1979 1980 1981 1982 1983 1984 1985 1986\n",
      " 1987 1988 1989 1990 1991 1992 1993 1994 1995 1996 1997 1998 1999 2000\n",
      " 2001 2002 2003 2004 2005 2006 2008 2010 2011 2012 2020 2021 2024 2026\n",
      " 2030 2037 2038 2050]\n"
     ]
    }
   ],
   "source": [
    "## Checking for column Year-of-publication\n",
    "unique_years_array = books['Year-Of-Publication'].unique()\n",
    "sorted_years = np.array(sorted([year for year in unique_years_array]))\n",
    "print(sorted_years)"
   ]
  },
  {
   "cell_type": "code",
   "execution_count": 494,
   "metadata": {
    "executionInfo": {
     "elapsed": 22,
     "status": "ok",
     "timestamp": 1623912089191,
     "user": {
      "displayName": "Ashima IIITD",
      "photoUrl": "https://lh3.googleusercontent.com/a-/AOh14Gg51iTXizYDNTZkEdwmQ5GkwRQ8vp_9KTB8UVlC=s64",
      "userId": "02694856405090268186"
     },
     "user_tz": -330
    },
    "id": "lqwXbFTCHbOQ"
   },
   "outputs": [],
   "source": [
    "pd.set_option('display.max_colwidth', None)"
   ]
  },
  {
   "cell_type": "code",
   "execution_count": 495,
   "metadata": {
    "colab": {
     "base_uri": "https://localhost:8080/",
     "height": 80
    },
    "executionInfo": {
     "elapsed": 19,
     "status": "ok",
     "timestamp": 1623912089861,
     "user": {
      "displayName": "Ashima IIITD",
      "photoUrl": "https://lh3.googleusercontent.com/a-/AOh14Gg51iTXizYDNTZkEdwmQ5GkwRQ8vp_9KTB8UVlC=s64",
      "userId": "02694856405090268186"
     },
     "user_tz": -330
    },
    "id": "wl5XyqQWHbOV",
    "outputId": "4eebe45b-aebf-4d83-ea4f-0b2e425b1750"
   },
   "outputs": [
    {
     "data": {
      "text/html": [
       "<div>\n",
       "<style scoped>\n",
       "    .dataframe tbody tr th:only-of-type {\n",
       "        vertical-align: middle;\n",
       "    }\n",
       "\n",
       "    .dataframe tbody tr th {\n",
       "        vertical-align: top;\n",
       "    }\n",
       "\n",
       "    .dataframe thead th {\n",
       "        text-align: right;\n",
       "    }\n",
       "</style>\n",
       "<table border=\"1\" class=\"dataframe\">\n",
       "  <thead>\n",
       "    <tr style=\"text-align: right;\">\n",
       "      <th></th>\n",
       "      <th>ISBN</th>\n",
       "      <th>Book-Title</th>\n",
       "      <th>Book-Author</th>\n",
       "      <th>Year-Of-Publication</th>\n",
       "      <th>Publisher</th>\n",
       "    </tr>\n",
       "  </thead>\n",
       "  <tbody>\n",
       "    <tr>\n",
       "      <th>176</th>\n",
       "      <td>3150000335</td>\n",
       "      <td>Kabale Und Liebe</td>\n",
       "      <td>Schiller</td>\n",
       "      <td>0</td>\n",
       "      <td>Philipp Reclam, Jun Verlag GmbH</td>\n",
       "    </tr>\n",
       "    <tr>\n",
       "      <th>188</th>\n",
       "      <td>342311360X</td>\n",
       "      <td>Die Liebe in Den Zelten</td>\n",
       "      <td>Gabriel Garcia Marquez</td>\n",
       "      <td>0</td>\n",
       "      <td>Deutscher Taschenbuch Verlag (DTV)</td>\n",
       "    </tr>\n",
       "    <tr>\n",
       "      <th>288</th>\n",
       "      <td>0571197639</td>\n",
       "      <td>Poisonwood Bible Edition Uk</td>\n",
       "      <td>Barbara Kingsolver</td>\n",
       "      <td>0</td>\n",
       "      <td>Faber Faber Inc</td>\n",
       "    </tr>\n",
       "    <tr>\n",
       "      <th>351</th>\n",
       "      <td>3596214629</td>\n",
       "      <td>Herr Der Fliegen (Fiction, Poetry and Drama)</td>\n",
       "      <td>Golding</td>\n",
       "      <td>0</td>\n",
       "      <td>Fischer Taschenbuch Verlag GmbH</td>\n",
       "    </tr>\n",
       "    <tr>\n",
       "      <th>542</th>\n",
       "      <td>8845229041</td>\n",
       "      <td>Biblioteca Universale Rizzoli: Sulla Sponda Del Fiume Piedra</td>\n",
       "      <td>P Coelho</td>\n",
       "      <td>0</td>\n",
       "      <td>Fabbri - RCS Libri</td>\n",
       "    </tr>\n",
       "  </tbody>\n",
       "</table>\n",
       "</div>"
      ],
      "text/plain": [
       "           ISBN                                                    Book-Title  \\\n",
       "176  3150000335                                              Kabale Und Liebe   \n",
       "188  342311360X                                       Die Liebe in Den Zelten   \n",
       "288  0571197639                                   Poisonwood Bible Edition Uk   \n",
       "351  3596214629                  Herr Der Fliegen (Fiction, Poetry and Drama)   \n",
       "542  8845229041  Biblioteca Universale Rizzoli: Sulla Sponda Del Fiume Piedra   \n",
       "\n",
       "                Book-Author  Year-Of-Publication  \\\n",
       "176                Schiller                    0   \n",
       "188  Gabriel Garcia Marquez                    0   \n",
       "288      Barbara Kingsolver                    0   \n",
       "351                 Golding                    0   \n",
       "542                P Coelho                    0   \n",
       "\n",
       "                              Publisher  \n",
       "176     Philipp Reclam, Jun Verlag GmbH  \n",
       "188  Deutscher Taschenbuch Verlag (DTV)  \n",
       "288                     Faber Faber Inc  \n",
       "351     Fischer Taschenbuch Verlag GmbH  \n",
       "542                  Fabbri - RCS Libri  "
      ]
     },
     "execution_count": 495,
     "metadata": {},
     "output_type": "execute_result"
    }
   ],
   "source": [
    "books.loc[books['Year-Of-Publication'] == 0,:].head(5)"
   ]
  },
  {
   "cell_type": "code",
   "execution_count": 496,
   "metadata": {},
   "outputs": [
    {
     "name": "stdout",
     "output_type": "stream",
     "text": [
      "271379\n"
     ]
    }
   ],
   "source": [
    "print(str(books['Year-Of-Publication'].count()))"
   ]
  },
  {
   "cell_type": "code",
   "execution_count": 497,
   "metadata": {
    "colab": {
     "base_uri": "https://localhost:8080/"
    },
    "executionInfo": {
     "elapsed": 15,
     "status": "ok",
     "timestamp": 1623912089863,
     "user": {
      "displayName": "Ashima IIITD",
      "photoUrl": "https://lh3.googleusercontent.com/a-/AOh14Gg51iTXizYDNTZkEdwmQ5GkwRQ8vp_9KTB8UVlC=s64",
      "userId": "02694856405090268186"
     },
     "user_tz": -330
    },
    "id": "8Mo7fz3nHbOg",
    "outputId": "67ef1018-0ecd-443e-c6b9-5ff8c3b7039f"
   },
   "outputs": [
    {
     "data": {
      "text/plain": [
       "[2002]"
      ]
     },
     "execution_count": 497,
     "metadata": {},
     "output_type": "execute_result"
    }
   ],
   "source": [
    "## Replacing Invalid years with year has most books published\n",
    "count = Counter(books['Year-Of-Publication'])\n",
    "[k for k, v in count.items() if v == max(count.values())]"
   ]
  },
  {
   "cell_type": "code",
   "execution_count": 498,
   "metadata": {
    "executionInfo": {
     "elapsed": 12,
     "status": "ok",
     "timestamp": 1623912089864,
     "user": {
      "displayName": "Ashima IIITD",
      "photoUrl": "https://lh3.googleusercontent.com/a-/AOh14Gg51iTXizYDNTZkEdwmQ5GkwRQ8vp_9KTB8UVlC=s64",
      "userId": "02694856405090268186"
     },
     "user_tz": -330
    },
    "id": "rUBTN5NcHbOl"
   },
   "outputs": [],
   "source": [
    "books.loc[books['Year-Of-Publication'] > 2020, 'Year-Of-Publication'] = 2002\n",
    "books.loc[books['Year-Of-Publication'] == 0, 'Year-Of-Publication'] = 2002"
   ]
  },
  {
   "cell_type": "code",
   "execution_count": 499,
   "metadata": {
    "executionInfo": {
     "elapsed": 12,
     "status": "ok",
     "timestamp": 1623912089864,
     "user": {
      "displayName": "Ashima IIITD",
      "photoUrl": "https://lh3.googleusercontent.com/a-/AOh14Gg51iTXizYDNTZkEdwmQ5GkwRQ8vp_9KTB8UVlC=s64",
      "userId": "02694856405090268186"
     },
     "user_tz": -330
    },
    "id": "jplGFvIISnEW"
   },
   "outputs": [],
   "source": [
    "## Uppercasing all alphabets in ISBN\n",
    "books['ISBN'] = books['ISBN'].str.upper()"
   ]
  },
  {
   "cell_type": "code",
   "execution_count": 500,
   "metadata": {
    "executionInfo": {
     "elapsed": 12,
     "status": "ok",
     "timestamp": 1623912089865,
     "user": {
      "displayName": "Ashima IIITD",
      "photoUrl": "https://lh3.googleusercontent.com/a-/AOh14Gg51iTXizYDNTZkEdwmQ5GkwRQ8vp_9KTB8UVlC=s64",
      "userId": "02694856405090268186"
     },
     "user_tz": -330
    },
    "id": "fqd1CGiOo4mx"
   },
   "outputs": [],
   "source": [
    "## Drop duplicate rows\n",
    "books.drop_duplicates(keep='last', inplace=True) \n",
    "books.reset_index(drop = True, inplace = True)"
   ]
  },
  {
   "cell_type": "code",
   "execution_count": 501,
   "metadata": {},
   "outputs": [
    {
     "name": "stdout",
     "output_type": "stream",
     "text": [
      "<class 'pandas.core.frame.DataFrame'>\n",
      "RangeIndex: 271066 entries, 0 to 271065\n",
      "Data columns (total 5 columns):\n",
      " #   Column               Non-Null Count   Dtype \n",
      "---  ------               --------------   ----- \n",
      " 0   ISBN                 271066 non-null  object\n",
      " 1   Book-Title           271066 non-null  object\n",
      " 2   Book-Author          271066 non-null  object\n",
      " 3   Year-Of-Publication  271066 non-null  int64 \n",
      " 4   Publisher            271066 non-null  object\n",
      "dtypes: int64(1), object(4)\n",
      "memory usage: 10.3+ MB\n"
     ]
    }
   ],
   "source": [
    "books.info()"
   ]
  },
  {
   "cell_type": "markdown",
   "metadata": {
    "id": "Q3RUi91KHbPQ"
   },
   "source": [
    "<b>Users Dataset Pre-processing"
   ]
  },
  {
   "cell_type": "code",
   "execution_count": 502,
   "metadata": {
    "colab": {
     "base_uri": "https://localhost:8080/",
     "height": 221
    },
    "executionInfo": {
     "elapsed": 24,
     "status": "ok",
     "timestamp": 1623912090558,
     "user": {
      "displayName": "Ashima IIITD",
      "photoUrl": "https://lh3.googleusercontent.com/a-/AOh14Gg51iTXizYDNTZkEdwmQ5GkwRQ8vp_9KTB8UVlC=s64",
      "userId": "02694856405090268186"
     },
     "user_tz": -330
    },
    "id": "shXVpl1le_4f",
    "outputId": "ddd49246-2626-43c6-c01e-adf997324c94"
   },
   "outputs": [
    {
     "name": "stdout",
     "output_type": "stream",
     "text": [
      "Columns:  ['User-ID', 'Location', 'Age']\n",
      "<class 'pandas.core.frame.DataFrame'>\n",
      "RangeIndex: 278858 entries, 0 to 278857\n",
      "Data columns (total 3 columns):\n",
      " #   Column    Non-Null Count   Dtype  \n",
      "---  ------    --------------   -----  \n",
      " 0   User-ID   278858 non-null  int64  \n",
      " 1   Location  278858 non-null  object \n",
      " 2   Age       168096 non-null  float64\n",
      "dtypes: float64(1), int64(1), object(1)\n",
      "memory usage: 6.4+ MB\n"
     ]
    },
    {
     "data": {
      "text/html": [
       "<div>\n",
       "<style scoped>\n",
       "    .dataframe tbody tr th:only-of-type {\n",
       "        vertical-align: middle;\n",
       "    }\n",
       "\n",
       "    .dataframe tbody tr th {\n",
       "        vertical-align: top;\n",
       "    }\n",
       "\n",
       "    .dataframe thead th {\n",
       "        text-align: right;\n",
       "    }\n",
       "</style>\n",
       "<table border=\"1\" class=\"dataframe\">\n",
       "  <thead>\n",
       "    <tr style=\"text-align: right;\">\n",
       "      <th></th>\n",
       "      <th>User-ID</th>\n",
       "      <th>Location</th>\n",
       "      <th>Age</th>\n",
       "    </tr>\n",
       "  </thead>\n",
       "  <tbody>\n",
       "    <tr>\n",
       "      <th>0</th>\n",
       "      <td>1</td>\n",
       "      <td>nyc, new york, usa</td>\n",
       "      <td>NaN</td>\n",
       "    </tr>\n",
       "    <tr>\n",
       "      <th>1</th>\n",
       "      <td>2</td>\n",
       "      <td>stockton, california, usa</td>\n",
       "      <td>18.0</td>\n",
       "    </tr>\n",
       "    <tr>\n",
       "      <th>2</th>\n",
       "      <td>3</td>\n",
       "      <td>moscow, yukon territory, russia</td>\n",
       "      <td>NaN</td>\n",
       "    </tr>\n",
       "    <tr>\n",
       "      <th>3</th>\n",
       "      <td>4</td>\n",
       "      <td>porto, v.n.gaia, portugal</td>\n",
       "      <td>17.0</td>\n",
       "    </tr>\n",
       "    <tr>\n",
       "      <th>4</th>\n",
       "      <td>5</td>\n",
       "      <td>farnborough, hants, united kingdom</td>\n",
       "      <td>NaN</td>\n",
       "    </tr>\n",
       "  </tbody>\n",
       "</table>\n",
       "</div>"
      ],
      "text/plain": [
       "   User-ID                            Location   Age\n",
       "0        1                  nyc, new york, usa   NaN\n",
       "1        2           stockton, california, usa  18.0\n",
       "2        3     moscow, yukon territory, russia   NaN\n",
       "3        4           porto, v.n.gaia, portugal  17.0\n",
       "4        5  farnborough, hants, united kingdom   NaN"
      ]
     },
     "execution_count": 502,
     "metadata": {},
     "output_type": "execute_result"
    }
   ],
   "source": [
    "print(\"Columns: \", list(users.columns))\n",
    "users.info()\n",
    "users.head()"
   ]
  },
  {
   "cell_type": "code",
   "execution_count": 503,
   "metadata": {
    "colab": {
     "base_uri": "https://localhost:8080/"
    },
    "executionInfo": {
     "elapsed": 19,
     "status": "ok",
     "timestamp": 1623912090559,
     "user": {
      "displayName": "Ashima IIITD",
      "photoUrl": "https://lh3.googleusercontent.com/a-/AOh14Gg51iTXizYDNTZkEdwmQ5GkwRQ8vp_9KTB8UVlC=s64",
      "userId": "02694856405090268186"
     },
     "user_tz": -330
    },
    "id": "IgUWcug6HbPR",
    "outputId": "33afab7a-92de-4e36-d755-8225397da763"
   },
   "outputs": [
    {
     "name": "stdout",
     "output_type": "stream",
     "text": [
      "User-ID          0\n",
      "Location         0\n",
      "Age         110762\n",
      "dtype: int64\n"
     ]
    }
   ],
   "source": [
    "print(users.isna().sum())               "
   ]
  },
  {
   "cell_type": "code",
   "execution_count": 504,
   "metadata": {
    "colab": {
     "base_uri": "https://localhost:8080/"
    },
    "executionInfo": {
     "elapsed": 16,
     "status": "ok",
     "timestamp": 1623912090559,
     "user": {
      "displayName": "Ashima IIITD",
      "photoUrl": "https://lh3.googleusercontent.com/a-/AOh14Gg51iTXizYDNTZkEdwmQ5GkwRQ8vp_9KTB8UVlC=s64",
      "userId": "02694856405090268186"
     },
     "user_tz": -330
    },
    "id": "hZBdnU-idiZv",
    "outputId": "b12343ad-0722-4702-8ef2-83165ce14d2a"
   },
   "outputs": [
    {
     "name": "stdout",
     "output_type": "stream",
     "text": [
      "[ nan   0.   1.   2.   3.   4.   5.   6.   7.   8.   9.  10.  11.  12.\n",
      "  13.  14.  15.  16.  17.  18.  19.  20.  21.  22.  23.  24.  25.  26.\n",
      "  27.  28.  29.  30.  31.  32.  33.  34.  35.  36.  37.  38.  39.  40.\n",
      "  41.  42.  43.  44.  45.  46.  47.  48.  49.  50.  51.  52.  53.  54.\n",
      "  55.  56.  57.  58.  59.  60.  61.  62.  63.  64.  65.  66.  67.  68.\n",
      "  69.  70.  71.  72.  73.  74.  75.  76.  77.  78.  79.  80.  81.  82.\n",
      "  83.  84.  85.  86.  87.  88.  89.  90.  91.  92.  93.  94.  95.  96.\n",
      "  97.  98.  99. 100. 101. 102. 103. 104. 105. 106. 107. 108. 109. 110.\n",
      " 111. 113. 114. 115. 116. 118. 119. 123. 124. 127. 128. 132. 133. 136.\n",
      " 137. 138. 140. 141. 143. 146. 147. 148. 151. 152. 156. 157. 159. 162.\n",
      " 168. 172. 175. 183. 186. 189. 199. 200. 201. 204. 207. 208. 209. 210.\n",
      " 212. 219. 220. 223. 226. 228. 229. 230. 231. 237. 239. 244.]\n"
     ]
    }
   ],
   "source": [
    "## Check for all values present in Age column\n",
    "unique_ages_array = users['Age'].unique()\n",
    "sorted_ages = np.array(sorted([age for age in unique_ages_array]))\n",
    "print(sorted_ages)"
   ]
  },
  {
   "cell_type": "code",
   "execution_count": 505,
   "metadata": {
    "executionInfo": {
     "elapsed": 14,
     "status": "ok",
     "timestamp": 1623912090560,
     "user": {
      "displayName": "Ashima IIITD",
      "photoUrl": "https://lh3.googleusercontent.com/a-/AOh14Gg51iTXizYDNTZkEdwmQ5GkwRQ8vp_9KTB8UVlC=s64",
      "userId": "02694856405090268186"
     },
     "user_tz": -330
    },
    "id": "H3dNYNstdiik"
   },
   "outputs": [],
   "source": [
    "required = users[users['Age'] <= 80]\n",
    "required = required[required['Age'] >= 10]"
   ]
  },
  {
   "cell_type": "code",
   "execution_count": 506,
   "metadata": {
    "colab": {
     "base_uri": "https://localhost:8080/"
    },
    "executionInfo": {
     "elapsed": 13,
     "status": "ok",
     "timestamp": 1623912090560,
     "user": {
      "displayName": "Ashima IIITD",
      "photoUrl": "https://lh3.googleusercontent.com/a-/AOh14Gg51iTXizYDNTZkEdwmQ5GkwRQ8vp_9KTB8UVlC=s64",
      "userId": "02694856405090268186"
     },
     "user_tz": -330
    },
    "id": "0KVi6a6bd_Yo",
    "outputId": "7eb43572-b05b-4003-d1aa-1be23858e9ca"
   },
   "outputs": [
    {
     "data": {
      "text/plain": [
       "35"
      ]
     },
     "execution_count": 506,
     "metadata": {},
     "output_type": "execute_result"
    }
   ],
   "source": [
    "mean = round(required['Age'].mean())   \n",
    "mean"
   ]
  },
  {
   "cell_type": "code",
   "execution_count": 507,
   "metadata": {
    "executionInfo": {
     "elapsed": 11,
     "status": "ok",
     "timestamp": 1623912090561,
     "user": {
      "displayName": "Ashima IIITD",
      "photoUrl": "https://lh3.googleusercontent.com/a-/AOh14Gg51iTXizYDNTZkEdwmQ5GkwRQ8vp_9KTB8UVlC=s64",
      "userId": "02694856405090268186"
     },
     "user_tz": -330
    },
    "id": "C1YOTtiNNDYp"
   },
   "outputs": [],
   "source": [
    "users.loc[users['Age'] > 80, 'Age'] = mean\n",
    "users.loc[users['Age'] < 10, 'Age'] = mean\n",
    "users['Age'] = users['Age'].fillna(mean)\n",
    "users['Age'] = users['Age'].astype(int)"
   ]
  },
  {
   "cell_type": "code",
   "execution_count": 508,
   "metadata": {
    "colab": {
     "base_uri": "https://localhost:8080/"
    },
    "executionInfo": {
     "elapsed": 18207,
     "status": "ok",
     "timestamp": 1623912108757,
     "user": {
      "displayName": "Ashima IIITD",
      "photoUrl": "https://lh3.googleusercontent.com/a-/AOh14Gg51iTXizYDNTZkEdwmQ5GkwRQ8vp_9KTB8UVlC=s64",
      "userId": "02694856405090268186"
     },
     "user_tz": -330
    },
    "id": "2StAXDft_6qg",
    "outputId": "429b3beb-739f-4ca4-f4a0-749b3cd1be1a"
   },
   "outputs": [
    {
     "name": "stdout",
     "output_type": "stream",
     "text": [
      "561\n",
      "4659\n",
      "16044\n"
     ]
    }
   ],
   "source": [
    "list_ = users.Location.str.split(', ')\n",
    "\n",
    "city = []\n",
    "state = []\n",
    "country = []\n",
    "count_no_city = 0 \n",
    "count_no_state = 0    \n",
    "count_no_country = 0\n",
    "\n",
    "for i in range(0,len(list_)):\n",
    "    if list_[i][0] == ' ' or list_[i][0] == '' or list_[i][0]=='n/a' or list_[i][0] == ',':  # Removing invalid entries\n",
    "        city.append('other')\n",
    "        count_no_city += 1\n",
    "    else:\n",
    "        city.append(list_[i][0].lower())\n",
    "\n",
    "    if(len(list_[i])<2):\n",
    "        state.append('other')\n",
    "        country.append('other')\n",
    "        count_no_state += 1\n",
    "        count_no_country += 1\n",
    "    else:\n",
    "        if list_[i][1] == ' ' or list_[i][1] == '' or list_[i][1]=='n/a' or list_[i][1] == ',':\n",
    "            state.append('other')\n",
    "            count_no_state += 1            \n",
    "        else:\n",
    "            state.append(list_[i][1].lower())\n",
    "        \n",
    "        if(len(list_[i])<3):\n",
    "            country.append('other')\n",
    "            count_no_country += 1\n",
    "        else:\n",
    "            if list_[i][2] == ''or list_[i][1] == ',' or list_[i][2] == ' ' or list_[i][2] == 'n/a':\n",
    "                country.append('other')\n",
    "                count_no_country += 1\n",
    "            else:\n",
    "                country.append(list_[i][2].lower())\n",
    "        \n",
    "users = users.drop('Location',axis=1)\n",
    "\n",
    "tmp_city = []\n",
    "for ent in city:\n",
    "    c = ent.split('/')            #handling cases where city/state entries from city list as state is already given \n",
    "    tmp_city.append(c[0])\n",
    "\n",
    "tmp_state = []\n",
    "for ent in state:\n",
    "    c = ent.split('/')\n",
    "    tmp_state.append(c[0])\n",
    "\n",
    "df_city = pd.DataFrame(tmp_city,columns=['City'])\n",
    "df_state = pd.DataFrame(tmp_state,columns=['State'])\n",
    "df_country = pd.DataFrame(country,columns=['Country'])\n",
    "\n",
    "users = pd.concat([users, df_city], axis=1)\n",
    "users = pd.concat([users, df_state], axis=1)\n",
    "users = pd.concat([users, df_country], axis=1)\n",
    "\n",
    "print(count_no_city)\n",
    "print(count_no_country)\n",
    "print(count_no_state)"
   ]
  },
  {
   "cell_type": "code",
   "execution_count": 509,
   "metadata": {
    "executionInfo": {
     "elapsed": 23,
     "status": "ok",
     "timestamp": 1623912108758,
     "user": {
      "displayName": "Ashima IIITD",
      "photoUrl": "https://lh3.googleusercontent.com/a-/AOh14Gg51iTXizYDNTZkEdwmQ5GkwRQ8vp_9KTB8UVlC=s64",
      "userId": "02694856405090268186"
     },
     "user_tz": -330
    },
    "id": "NqkVvAytpNUe"
   },
   "outputs": [],
   "source": [
    "## Drop duplicate rows\n",
    "users.drop_duplicates(keep='last', inplace=True)\n",
    "users.reset_index(drop=True, inplace=True)"
   ]
  },
  {
   "cell_type": "code",
   "execution_count": 510,
   "metadata": {
    "colab": {
     "base_uri": "https://localhost:8080/"
    },
    "executionInfo": {
     "elapsed": 23,
     "status": "ok",
     "timestamp": 1623912108759,
     "user": {
      "displayName": "Ashima IIITD",
      "photoUrl": "https://lh3.googleusercontent.com/a-/AOh14Gg51iTXizYDNTZkEdwmQ5GkwRQ8vp_9KTB8UVlC=s64",
      "userId": "02694856405090268186"
     },
     "user_tz": -330
    },
    "id": "cF_aI6ObPXiE",
    "outputId": "72df13ee-ef47-44ae-f7a6-c3594eb16123"
   },
   "outputs": [
    {
     "name": "stdout",
     "output_type": "stream",
     "text": [
      "<class 'pandas.core.frame.DataFrame'>\n",
      "RangeIndex: 278858 entries, 0 to 278857\n",
      "Data columns (total 5 columns):\n",
      " #   Column   Non-Null Count   Dtype \n",
      "---  ------   --------------   ----- \n",
      " 0   User-ID  278858 non-null  int64 \n",
      " 1   Age      278858 non-null  int64 \n",
      " 2   City     278858 non-null  object\n",
      " 3   State    278858 non-null  object\n",
      " 4   Country  278858 non-null  object\n",
      "dtypes: int64(2), object(3)\n",
      "memory usage: 10.6+ MB\n"
     ]
    },
    {
     "data": {
      "text/html": [
       "<div>\n",
       "<style scoped>\n",
       "    .dataframe tbody tr th:only-of-type {\n",
       "        vertical-align: middle;\n",
       "    }\n",
       "\n",
       "    .dataframe tbody tr th {\n",
       "        vertical-align: top;\n",
       "    }\n",
       "\n",
       "    .dataframe thead th {\n",
       "        text-align: right;\n",
       "    }\n",
       "</style>\n",
       "<table border=\"1\" class=\"dataframe\">\n",
       "  <thead>\n",
       "    <tr style=\"text-align: right;\">\n",
       "      <th></th>\n",
       "      <th>User-ID</th>\n",
       "      <th>Age</th>\n",
       "      <th>City</th>\n",
       "      <th>State</th>\n",
       "      <th>Country</th>\n",
       "    </tr>\n",
       "  </thead>\n",
       "  <tbody>\n",
       "    <tr>\n",
       "      <th>0</th>\n",
       "      <td>1</td>\n",
       "      <td>35</td>\n",
       "      <td>nyc</td>\n",
       "      <td>new york</td>\n",
       "      <td>usa</td>\n",
       "    </tr>\n",
       "    <tr>\n",
       "      <th>1</th>\n",
       "      <td>2</td>\n",
       "      <td>18</td>\n",
       "      <td>stockton</td>\n",
       "      <td>california</td>\n",
       "      <td>usa</td>\n",
       "    </tr>\n",
       "    <tr>\n",
       "      <th>2</th>\n",
       "      <td>3</td>\n",
       "      <td>35</td>\n",
       "      <td>moscow</td>\n",
       "      <td>yukon territory</td>\n",
       "      <td>russia</td>\n",
       "    </tr>\n",
       "    <tr>\n",
       "      <th>3</th>\n",
       "      <td>4</td>\n",
       "      <td>17</td>\n",
       "      <td>porto</td>\n",
       "      <td>v.n.gaia</td>\n",
       "      <td>portugal</td>\n",
       "    </tr>\n",
       "    <tr>\n",
       "      <th>4</th>\n",
       "      <td>5</td>\n",
       "      <td>35</td>\n",
       "      <td>farnborough</td>\n",
       "      <td>hants</td>\n",
       "      <td>united kingdom</td>\n",
       "    </tr>\n",
       "  </tbody>\n",
       "</table>\n",
       "</div>"
      ],
      "text/plain": [
       "   User-ID  Age         City            State         Country\n",
       "0        1   35          nyc         new york             usa\n",
       "1        2   18     stockton       california             usa\n",
       "2        3   35       moscow  yukon territory          russia\n",
       "3        4   17        porto         v.n.gaia        portugal\n",
       "4        5   35  farnborough            hants  united kingdom"
      ]
     },
     "execution_count": 510,
     "metadata": {},
     "output_type": "execute_result"
    }
   ],
   "source": [
    "users.info()\n",
    "users.head()"
   ]
  },
  {
   "cell_type": "code",
   "execution_count": 511,
   "metadata": {
    "colab": {
     "base_uri": "https://localhost:8080/",
     "height": 204
    },
    "executionInfo": {
     "elapsed": 16,
     "status": "ok",
     "timestamp": 1623912108759,
     "user": {
      "displayName": "Ashima IIITD",
      "photoUrl": "https://lh3.googleusercontent.com/a-/AOh14Gg51iTXizYDNTZkEdwmQ5GkwRQ8vp_9KTB8UVlC=s64",
      "userId": "02694856405090268186"
     },
     "user_tz": -330
    },
    "id": "9G6vM-BYLNFf",
    "outputId": "c93373b0-8213-4962-f8fb-d9444f08b078"
   },
   "outputs": [
    {
     "data": {
      "text/html": [
       "<div>\n",
       "<style scoped>\n",
       "    .dataframe tbody tr th:only-of-type {\n",
       "        vertical-align: middle;\n",
       "    }\n",
       "\n",
       "    .dataframe tbody tr th {\n",
       "        vertical-align: top;\n",
       "    }\n",
       "\n",
       "    .dataframe thead th {\n",
       "        text-align: right;\n",
       "    }\n",
       "</style>\n",
       "<table border=\"1\" class=\"dataframe\">\n",
       "  <thead>\n",
       "    <tr style=\"text-align: right;\">\n",
       "      <th></th>\n",
       "      <th>User-ID</th>\n",
       "      <th>Age</th>\n",
       "      <th>City</th>\n",
       "      <th>State</th>\n",
       "      <th>Country</th>\n",
       "    </tr>\n",
       "  </thead>\n",
       "  <tbody>\n",
       "    <tr>\n",
       "      <th>0</th>\n",
       "      <td>1</td>\n",
       "      <td>35</td>\n",
       "      <td>nyc</td>\n",
       "      <td>new york</td>\n",
       "      <td>usa</td>\n",
       "    </tr>\n",
       "    <tr>\n",
       "      <th>1</th>\n",
       "      <td>2</td>\n",
       "      <td>18</td>\n",
       "      <td>stockton</td>\n",
       "      <td>california</td>\n",
       "      <td>usa</td>\n",
       "    </tr>\n",
       "    <tr>\n",
       "      <th>2</th>\n",
       "      <td>3</td>\n",
       "      <td>35</td>\n",
       "      <td>moscow</td>\n",
       "      <td>yukon territory</td>\n",
       "      <td>russia</td>\n",
       "    </tr>\n",
       "    <tr>\n",
       "      <th>3</th>\n",
       "      <td>4</td>\n",
       "      <td>17</td>\n",
       "      <td>porto</td>\n",
       "      <td>v.n.gaia</td>\n",
       "      <td>portugal</td>\n",
       "    </tr>\n",
       "    <tr>\n",
       "      <th>4</th>\n",
       "      <td>5</td>\n",
       "      <td>35</td>\n",
       "      <td>farnborough</td>\n",
       "      <td>hants</td>\n",
       "      <td>united kingdom</td>\n",
       "    </tr>\n",
       "  </tbody>\n",
       "</table>\n",
       "</div>"
      ],
      "text/plain": [
       "   User-ID  Age         City            State         Country\n",
       "0        1   35          nyc         new york             usa\n",
       "1        2   18     stockton       california             usa\n",
       "2        3   35       moscow  yukon territory          russia\n",
       "3        4   17        porto         v.n.gaia        portugal\n",
       "4        5   35  farnborough            hants  united kingdom"
      ]
     },
     "execution_count": 511,
     "metadata": {},
     "output_type": "execute_result"
    }
   ],
   "source": [
    "users.head()"
   ]
  },
  {
   "cell_type": "markdown",
   "metadata": {
    "id": "T2ALKysTHbPb"
   },
   "source": [
    "<b>Books-Ratings Dataset Pre-processing"
   ]
  },
  {
   "cell_type": "code",
   "execution_count": 512,
   "metadata": {
    "colab": {
     "base_uri": "https://localhost:8080/",
     "height": 221
    },
    "executionInfo": {
     "elapsed": 653,
     "status": "ok",
     "timestamp": 1623912109397,
     "user": {
      "displayName": "Ashima IIITD",
      "photoUrl": "https://lh3.googleusercontent.com/a-/AOh14Gg51iTXizYDNTZkEdwmQ5GkwRQ8vp_9KTB8UVlC=s64",
      "userId": "02694856405090268186"
     },
     "user_tz": -330
    },
    "id": "rFGWikWJgYaC",
    "outputId": "41431b40-2940-4a3b-f728-8f475e66d179"
   },
   "outputs": [
    {
     "name": "stdout",
     "output_type": "stream",
     "text": [
      "Columns:  ['User-ID', 'ISBN', 'Book-Rating']\n"
     ]
    },
    {
     "data": {
      "text/html": [
       "<div>\n",
       "<style scoped>\n",
       "    .dataframe tbody tr th:only-of-type {\n",
       "        vertical-align: middle;\n",
       "    }\n",
       "\n",
       "    .dataframe tbody tr th {\n",
       "        vertical-align: top;\n",
       "    }\n",
       "\n",
       "    .dataframe thead th {\n",
       "        text-align: right;\n",
       "    }\n",
       "</style>\n",
       "<table border=\"1\" class=\"dataframe\">\n",
       "  <thead>\n",
       "    <tr style=\"text-align: right;\">\n",
       "      <th></th>\n",
       "      <th>User-ID</th>\n",
       "      <th>ISBN</th>\n",
       "      <th>Book-Rating</th>\n",
       "    </tr>\n",
       "  </thead>\n",
       "  <tbody>\n",
       "    <tr>\n",
       "      <th>0</th>\n",
       "      <td>276725</td>\n",
       "      <td>034545104X</td>\n",
       "      <td>0</td>\n",
       "    </tr>\n",
       "    <tr>\n",
       "      <th>1</th>\n",
       "      <td>276726</td>\n",
       "      <td>0155061224</td>\n",
       "      <td>5</td>\n",
       "    </tr>\n",
       "    <tr>\n",
       "      <th>2</th>\n",
       "      <td>276727</td>\n",
       "      <td>0446520802</td>\n",
       "      <td>0</td>\n",
       "    </tr>\n",
       "    <tr>\n",
       "      <th>3</th>\n",
       "      <td>276729</td>\n",
       "      <td>052165615X</td>\n",
       "      <td>3</td>\n",
       "    </tr>\n",
       "    <tr>\n",
       "      <th>4</th>\n",
       "      <td>276729</td>\n",
       "      <td>0521795028</td>\n",
       "      <td>6</td>\n",
       "    </tr>\n",
       "  </tbody>\n",
       "</table>\n",
       "</div>"
      ],
      "text/plain": [
       "   User-ID        ISBN  Book-Rating\n",
       "0   276725  034545104X            0\n",
       "1   276726  0155061224            5\n",
       "2   276727  0446520802            0\n",
       "3   276729  052165615X            3\n",
       "4   276729  0521795028            6"
      ]
     },
     "execution_count": 512,
     "metadata": {},
     "output_type": "execute_result"
    }
   ],
   "source": [
    "print(\"Columns: \", list(ratings.columns))\n",
    "ratings.head()"
   ]
  },
  {
   "cell_type": "code",
   "execution_count": 513,
   "metadata": {
    "colab": {
     "base_uri": "https://localhost:8080/"
    },
    "executionInfo": {
     "elapsed": 17,
     "status": "ok",
     "timestamp": 1623912109398,
     "user": {
      "displayName": "Ashima IIITD",
      "photoUrl": "https://lh3.googleusercontent.com/a-/AOh14Gg51iTXizYDNTZkEdwmQ5GkwRQ8vp_9KTB8UVlC=s64",
      "userId": "02694856405090268186"
     },
     "user_tz": -330
    },
    "id": "CiA4xbv0HbPc",
    "outputId": "c09d339d-e697-4f9f-ade8-975fa5edd787"
   },
   "outputs": [
    {
     "data": {
      "text/plain": [
       "User-ID        0\n",
       "ISBN           0\n",
       "Book-Rating    0\n",
       "dtype: int64"
      ]
     },
     "execution_count": 513,
     "metadata": {},
     "output_type": "execute_result"
    }
   ],
   "source": [
    "## Checking for null values\n",
    "ratings.isnull().sum() "
   ]
  },
  {
   "cell_type": "code",
   "execution_count": 514,
   "metadata": {
    "colab": {
     "base_uri": "https://localhost:8080/"
    },
    "executionInfo": {
     "elapsed": 14,
     "status": "ok",
     "timestamp": 1623912109399,
     "user": {
      "displayName": "Ashima IIITD",
      "photoUrl": "https://lh3.googleusercontent.com/a-/AOh14Gg51iTXizYDNTZkEdwmQ5GkwRQ8vp_9KTB8UVlC=s64",
      "userId": "02694856405090268186"
     },
     "user_tz": -330
    },
    "id": "nb-2TTxhKTuO",
    "outputId": "59c920a2-ed79-4be6-e3b1-90ea046d090a"
   },
   "outputs": [
    {
     "name": "stdout",
     "output_type": "stream",
     "text": [
      "True\n"
     ]
    }
   ],
   "source": [
    "## Checking all ratings number or not\n",
    "print(is_numeric_dtype(ratings['Book-Rating']))"
   ]
  },
  {
   "cell_type": "code",
   "execution_count": 515,
   "metadata": {
    "colab": {
     "base_uri": "https://localhost:8080/"
    },
    "executionInfo": {
     "elapsed": 11,
     "status": "ok",
     "timestamp": 1623912109399,
     "user": {
      "displayName": "Ashima IIITD",
      "photoUrl": "https://lh3.googleusercontent.com/a-/AOh14Gg51iTXizYDNTZkEdwmQ5GkwRQ8vp_9KTB8UVlC=s64",
      "userId": "02694856405090268186"
     },
     "user_tz": -330
    },
    "id": "nn0PjIPnKT0C",
    "outputId": "4ebf160c-03e2-4ccc-8a40-62dcb7e97da2"
   },
   "outputs": [
    {
     "name": "stdout",
     "output_type": "stream",
     "text": [
      "True\n"
     ]
    }
   ],
   "source": [
    "## Checking User-ID contains only number or not\n",
    "print(is_numeric_dtype(ratings['User-ID']))"
   ]
  },
  {
   "cell_type": "code",
   "execution_count": 516,
   "metadata": {
    "colab": {
     "base_uri": "https://localhost:8080/"
    },
    "executionInfo": {
     "elapsed": 1303,
     "status": "ok",
     "timestamp": 1623912110694,
     "user": {
      "displayName": "Ashima IIITD",
      "photoUrl": "https://lh3.googleusercontent.com/a-/AOh14Gg51iTXizYDNTZkEdwmQ5GkwRQ8vp_9KTB8UVlC=s64",
      "userId": "02694856405090268186"
     },
     "user_tz": -330
    },
    "id": "j_QhbeNCKT30",
    "outputId": "f832463f-7c36-487f-ac87-bf34dd7a15b4"
   },
   "outputs": [
    {
     "name": "stdout",
     "output_type": "stream",
     "text": [
      "False\n"
     ]
    }
   ],
   "source": [
    "## Checking ISBN\n",
    "flag = 0\n",
    "k = []\n",
    "reg = \"[^A-Za-z0-9]\"\n",
    "\n",
    "for x in ratings['ISBN']:\n",
    "    z = re.search(reg,x)    \n",
    "    if z:\n",
    "        flag = 1\n",
    "\n",
    "if flag == 1:\n",
    "    print(\"False\")\n",
    "else:\n",
    "    print(\"True\")"
   ]
  },
  {
   "cell_type": "code",
   "execution_count": 517,
   "metadata": {
    "executionInfo": {
     "elapsed": 94722,
     "status": "ok",
     "timestamp": 1623912205414,
     "user": {
      "displayName": "Ashima IIITD",
      "photoUrl": "https://lh3.googleusercontent.com/a-/AOh14Gg51iTXizYDNTZkEdwmQ5GkwRQ8vp_9KTB8UVlC=s64",
      "userId": "02694856405090268186"
     },
     "user_tz": -330
    },
    "id": "PoUNkGMqKUJs"
   },
   "outputs": [],
   "source": [
    "## Removing extra characters from ISBN (from ratings dataset) existing in books dataset\n",
    "bookISBN = books['ISBN'].tolist() \n",
    "reg = \"[^A-Za-z0-9]\" \n",
    "for index, row_Value in ratings.iterrows():\n",
    "    z = re.search(reg, row_Value['ISBN'])    \n",
    "    if z:\n",
    "        f = re.sub(reg,\"\",row_Value['ISBN'])\n",
    "        if f in bookISBN:\n",
    "            ratings.at[index , 'ISBN'] = f"
   ]
  },
  {
   "cell_type": "code",
   "execution_count": 518,
   "metadata": {
    "executionInfo": {
     "elapsed": 656,
     "status": "ok",
     "timestamp": 1623912206058,
     "user": {
      "displayName": "Ashima IIITD",
      "photoUrl": "https://lh3.googleusercontent.com/a-/AOh14Gg51iTXizYDNTZkEdwmQ5GkwRQ8vp_9KTB8UVlC=s64",
      "userId": "02694856405090268186"
     },
     "user_tz": -330
    },
    "id": "EmODrJZISSNr"
   },
   "outputs": [],
   "source": [
    "## Uppercasing all alphabets in ISBN\n",
    "ratings['ISBN'] = ratings['ISBN'].str.upper()"
   ]
  },
  {
   "cell_type": "code",
   "execution_count": 519,
   "metadata": {
    "executionInfo": {
     "elapsed": 9,
     "status": "ok",
     "timestamp": 1623912206059,
     "user": {
      "displayName": "Ashima IIITD",
      "photoUrl": "https://lh3.googleusercontent.com/a-/AOh14Gg51iTXizYDNTZkEdwmQ5GkwRQ8vp_9KTB8UVlC=s64",
      "userId": "02694856405090268186"
     },
     "user_tz": -330
    },
    "id": "vv7sSuxmpTIi"
   },
   "outputs": [],
   "source": [
    "## Drop duplicate rows\n",
    "ratings.drop_duplicates(keep='last', inplace=True)\n",
    "ratings.reset_index(drop=True, inplace=True)"
   ]
  },
  {
   "cell_type": "code",
   "execution_count": 566,
   "metadata": {
    "colab": {
     "base_uri": "https://localhost:8080/"
    },
    "executionInfo": {
     "elapsed": 382,
     "status": "ok",
     "timestamp": 1623912206432,
     "user": {
      "displayName": "Ashima IIITD",
      "photoUrl": "https://lh3.googleusercontent.com/a-/AOh14Gg51iTXizYDNTZkEdwmQ5GkwRQ8vp_9KTB8UVlC=s64",
      "userId": "02694856405090268186"
     },
     "user_tz": -330
    },
    "id": "3OxDoF9iPhLA",
    "outputId": "4abf566e-4fd2-4ef0-9339-56512ec65581"
   },
   "outputs": [
    {
     "name": "stdout",
     "output_type": "stream",
     "text": [
      "<class 'pandas.core.frame.DataFrame'>\n",
      "RangeIndex: 1149776 entries, 0 to 1149775\n",
      "Data columns (total 3 columns):\n",
      " #   Column       Non-Null Count    Dtype \n",
      "---  ------       --------------    ----- \n",
      " 0   User-ID      1149776 non-null  int64 \n",
      " 1   ISBN         1149776 non-null  object\n",
      " 2   Book-Rating  1149776 non-null  int64 \n",
      "dtypes: int64(2), object(1)\n",
      "memory usage: 26.3+ MB\n"
     ]
    },
    {
     "data": {
      "text/html": [
       "<div>\n",
       "<style scoped>\n",
       "    .dataframe tbody tr th:only-of-type {\n",
       "        vertical-align: middle;\n",
       "    }\n",
       "\n",
       "    .dataframe tbody tr th {\n",
       "        vertical-align: top;\n",
       "    }\n",
       "\n",
       "    .dataframe thead th {\n",
       "        text-align: right;\n",
       "    }\n",
       "</style>\n",
       "<table border=\"1\" class=\"dataframe\">\n",
       "  <thead>\n",
       "    <tr style=\"text-align: right;\">\n",
       "      <th></th>\n",
       "      <th>User-ID</th>\n",
       "      <th>ISBN</th>\n",
       "      <th>Book-Rating</th>\n",
       "    </tr>\n",
       "  </thead>\n",
       "  <tbody>\n",
       "    <tr>\n",
       "      <th>0</th>\n",
       "      <td>276725</td>\n",
       "      <td>034545104X</td>\n",
       "      <td>0</td>\n",
       "    </tr>\n",
       "    <tr>\n",
       "      <th>1</th>\n",
       "      <td>276726</td>\n",
       "      <td>0155061224</td>\n",
       "      <td>5</td>\n",
       "    </tr>\n",
       "    <tr>\n",
       "      <th>2</th>\n",
       "      <td>276727</td>\n",
       "      <td>0446520802</td>\n",
       "      <td>0</td>\n",
       "    </tr>\n",
       "    <tr>\n",
       "      <th>3</th>\n",
       "      <td>276729</td>\n",
       "      <td>052165615X</td>\n",
       "      <td>3</td>\n",
       "    </tr>\n",
       "    <tr>\n",
       "      <th>4</th>\n",
       "      <td>276729</td>\n",
       "      <td>0521795028</td>\n",
       "      <td>6</td>\n",
       "    </tr>\n",
       "  </tbody>\n",
       "</table>\n",
       "</div>"
      ],
      "text/plain": [
       "   User-ID        ISBN  Book-Rating\n",
       "0   276725  034545104X            0\n",
       "1   276726  0155061224            5\n",
       "2   276727  0446520802            0\n",
       "3   276729  052165615X            3\n",
       "4   276729  0521795028            6"
      ]
     },
     "execution_count": 566,
     "metadata": {},
     "output_type": "execute_result"
    }
   ],
   "source": [
    "ratings.to_csv(\"../data/ratings_cleaned.csv\", index=False)\n",
    "ratings.info()\n",
    "ratings.head()"
   ]
  },
  {
   "cell_type": "markdown",
   "metadata": {
    "id": "H08g63ssPM8P"
   },
   "source": [
    "<h3><b>Merging of all three Tables"
   ]
  },
  {
   "cell_type": "markdown",
   "metadata": {
    "id": "OsBYOC9WWfkh"
   },
   "source": [
    "<b>Merging Books, Users and Rating Tables in One"
   ]
  },
  {
   "cell_type": "code",
   "execution_count": 521,
   "metadata": {
    "colab": {
     "base_uri": "https://localhost:8080/"
    },
    "executionInfo": {
     "elapsed": 2308,
     "status": "ok",
     "timestamp": 1623912208737,
     "user": {
      "displayName": "Ashima IIITD",
      "photoUrl": "https://lh3.googleusercontent.com/a-/AOh14Gg51iTXizYDNTZkEdwmQ5GkwRQ8vp_9KTB8UVlC=s64",
      "userId": "02694856405090268186"
     },
     "user_tz": -330
    },
    "id": "Qe35QgDxWetG",
    "outputId": "ee8ff3e9-1401-43bc-d56f-1068762b2e2e"
   },
   "outputs": [
    {
     "name": "stdout",
     "output_type": "stream",
     "text": [
      "<class 'pandas.core.frame.DataFrame'>\n",
      "RangeIndex: 1031648 entries, 0 to 1031647\n",
      "Data columns (total 11 columns):\n",
      " #   Column               Non-Null Count    Dtype \n",
      "---  ------               --------------    ----- \n",
      " 0   ISBN                 1031648 non-null  object\n",
      " 1   Book-Title           1031648 non-null  object\n",
      " 2   Book-Author          1031648 non-null  object\n",
      " 3   Year-Of-Publication  1031648 non-null  int64 \n",
      " 4   Publisher            1031648 non-null  object\n",
      " 5   User-ID              1031648 non-null  int64 \n",
      " 6   Book-Rating          1031648 non-null  int64 \n",
      " 7   Age                  1031648 non-null  int64 \n",
      " 8   City                 1031648 non-null  object\n",
      " 9   State                1031648 non-null  object\n",
      " 10  Country              1031648 non-null  object\n",
      "dtypes: int64(4), object(7)\n",
      "memory usage: 86.6+ MB\n"
     ]
    }
   ],
   "source": [
    "dataset = pd.merge(books, ratings, on='ISBN', how='inner')\n",
    "dataset = pd.merge(dataset, users, on='User-ID', how='inner')\n",
    "dataset.info()"
   ]
  },
  {
   "cell_type": "markdown",
   "metadata": {
    "id": "Om4IG8UDc02E"
   },
   "source": [
    "<b>Divide complete data on the basis of Implicit and Explicit ratings datasets"
   ]
  },
  {
   "cell_type": "code",
   "execution_count": 522,
   "metadata": {
    "colab": {
     "base_uri": "https://localhost:8080/"
    },
    "executionInfo": {
     "elapsed": 6,
     "status": "ok",
     "timestamp": 1623912208737,
     "user": {
      "displayName": "Ashima IIITD",
      "photoUrl": "https://lh3.googleusercontent.com/a-/AOh14Gg51iTXizYDNTZkEdwmQ5GkwRQ8vp_9KTB8UVlC=s64",
      "userId": "02694856405090268186"
     },
     "user_tz": -330
    },
    "id": "s8nZ7OutWT3Z",
    "outputId": "7a3591fa-8363-4273-ec0b-36193dbbd5b9"
   },
   "outputs": [
    {
     "data": {
      "text/plain": [
       "(384084, 11)"
      ]
     },
     "execution_count": 522,
     "metadata": {},
     "output_type": "execute_result"
    }
   ],
   "source": [
    "## Explicit Ratings Dataset\n",
    "dataset1 = dataset[dataset['Book-Rating'] != 0]\n",
    "dataset1 = dataset1.reset_index(drop = True)\n",
    "dataset1.shape"
   ]
  },
  {
   "cell_type": "code",
   "execution_count": 523,
   "metadata": {
    "colab": {
     "base_uri": "https://localhost:8080/"
    },
    "executionInfo": {
     "elapsed": 395,
     "status": "ok",
     "timestamp": 1623912209129,
     "user": {
      "displayName": "Ashima IIITD",
      "photoUrl": "https://lh3.googleusercontent.com/a-/AOh14Gg51iTXizYDNTZkEdwmQ5GkwRQ8vp_9KTB8UVlC=s64",
      "userId": "02694856405090268186"
     },
     "user_tz": -330
    },
    "id": "glsWrmCxWUAi",
    "outputId": "61a3c941-2528-4e12-a502-53948280ce7b"
   },
   "outputs": [
    {
     "data": {
      "text/plain": [
       "(647564, 11)"
      ]
     },
     "execution_count": 523,
     "metadata": {},
     "output_type": "execute_result"
    }
   ],
   "source": [
    "## Implicit Ratings Dataset\n",
    "dataset2 = dataset[dataset['Book-Rating'] == 0]\n",
    "dataset2 = dataset2.reset_index(drop = True)\n",
    "dataset2.shape"
   ]
  },
  {
   "cell_type": "code",
   "execution_count": 524,
   "metadata": {
    "colab": {
     "base_uri": "https://localhost:8080/",
     "height": 204
    },
    "executionInfo": {
     "elapsed": 7,
     "status": "ok",
     "timestamp": 1623912209130,
     "user": {
      "displayName": "Ashima IIITD",
      "photoUrl": "https://lh3.googleusercontent.com/a-/AOh14Gg51iTXizYDNTZkEdwmQ5GkwRQ8vp_9KTB8UVlC=s64",
      "userId": "02694856405090268186"
     },
     "user_tz": -330
    },
    "id": "youYQL9HMl7g",
    "outputId": "0998d608-49e7-4b22-c20d-a65b73ebf5cb"
   },
   "outputs": [
    {
     "data": {
      "text/html": [
       "<div>\n",
       "<style scoped>\n",
       "    .dataframe tbody tr th:only-of-type {\n",
       "        vertical-align: middle;\n",
       "    }\n",
       "\n",
       "    .dataframe tbody tr th {\n",
       "        vertical-align: top;\n",
       "    }\n",
       "\n",
       "    .dataframe thead th {\n",
       "        text-align: right;\n",
       "    }\n",
       "</style>\n",
       "<table border=\"1\" class=\"dataframe\">\n",
       "  <thead>\n",
       "    <tr style=\"text-align: right;\">\n",
       "      <th></th>\n",
       "      <th>ISBN</th>\n",
       "      <th>Book-Title</th>\n",
       "      <th>Book-Author</th>\n",
       "      <th>Year-Of-Publication</th>\n",
       "      <th>Publisher</th>\n",
       "      <th>User-ID</th>\n",
       "      <th>Book-Rating</th>\n",
       "      <th>Age</th>\n",
       "      <th>City</th>\n",
       "      <th>State</th>\n",
       "      <th>Country</th>\n",
       "    </tr>\n",
       "  </thead>\n",
       "  <tbody>\n",
       "    <tr>\n",
       "      <th>0</th>\n",
       "      <td>0002005018</td>\n",
       "      <td>Clara Callan</td>\n",
       "      <td>Richard Bruce Wright</td>\n",
       "      <td>2001</td>\n",
       "      <td>HarperFlamingo Canada</td>\n",
       "      <td>8</td>\n",
       "      <td>5</td>\n",
       "      <td>35</td>\n",
       "      <td>timmins</td>\n",
       "      <td>ontario</td>\n",
       "      <td>canada</td>\n",
       "    </tr>\n",
       "    <tr>\n",
       "      <th>1</th>\n",
       "      <td>0002005018</td>\n",
       "      <td>Clara Callan</td>\n",
       "      <td>Richard Bruce Wright</td>\n",
       "      <td>2001</td>\n",
       "      <td>HarperFlamingo Canada</td>\n",
       "      <td>11676</td>\n",
       "      <td>8</td>\n",
       "      <td>35</td>\n",
       "      <td>other</td>\n",
       "      <td>other</td>\n",
       "      <td>other</td>\n",
       "    </tr>\n",
       "    <tr>\n",
       "      <th>2</th>\n",
       "      <td>0002005018</td>\n",
       "      <td>Clara Callan</td>\n",
       "      <td>Richard Bruce Wright</td>\n",
       "      <td>2001</td>\n",
       "      <td>HarperFlamingo Canada</td>\n",
       "      <td>67544</td>\n",
       "      <td>8</td>\n",
       "      <td>30</td>\n",
       "      <td>toronto</td>\n",
       "      <td>ontario</td>\n",
       "      <td>canada</td>\n",
       "    </tr>\n",
       "    <tr>\n",
       "      <th>3</th>\n",
       "      <td>0002005018</td>\n",
       "      <td>Clara Callan</td>\n",
       "      <td>Richard Bruce Wright</td>\n",
       "      <td>2001</td>\n",
       "      <td>HarperFlamingo Canada</td>\n",
       "      <td>116866</td>\n",
       "      <td>9</td>\n",
       "      <td>35</td>\n",
       "      <td>ottawa</td>\n",
       "      <td>other</td>\n",
       "      <td>other</td>\n",
       "    </tr>\n",
       "    <tr>\n",
       "      <th>4</th>\n",
       "      <td>0002005018</td>\n",
       "      <td>Clara Callan</td>\n",
       "      <td>Richard Bruce Wright</td>\n",
       "      <td>2001</td>\n",
       "      <td>HarperFlamingo Canada</td>\n",
       "      <td>123629</td>\n",
       "      <td>9</td>\n",
       "      <td>35</td>\n",
       "      <td>kingston</td>\n",
       "      <td>ontario</td>\n",
       "      <td>canada</td>\n",
       "    </tr>\n",
       "  </tbody>\n",
       "</table>\n",
       "</div>"
      ],
      "text/plain": [
       "         ISBN    Book-Title           Book-Author  Year-Of-Publication  \\\n",
       "0  0002005018  Clara Callan  Richard Bruce Wright                 2001   \n",
       "1  0002005018  Clara Callan  Richard Bruce Wright                 2001   \n",
       "2  0002005018  Clara Callan  Richard Bruce Wright                 2001   \n",
       "3  0002005018  Clara Callan  Richard Bruce Wright                 2001   \n",
       "4  0002005018  Clara Callan  Richard Bruce Wright                 2001   \n",
       "\n",
       "               Publisher  User-ID  Book-Rating  Age      City    State Country  \n",
       "0  HarperFlamingo Canada        8            5   35   timmins  ontario  canada  \n",
       "1  HarperFlamingo Canada    11676            8   35     other    other   other  \n",
       "2  HarperFlamingo Canada    67544            8   30   toronto  ontario  canada  \n",
       "3  HarperFlamingo Canada   116866            9   35    ottawa    other   other  \n",
       "4  HarperFlamingo Canada   123629            9   35  kingston  ontario  canada  "
      ]
     },
     "execution_count": 524,
     "metadata": {},
     "output_type": "execute_result"
    }
   ],
   "source": [
    "dataset1.head()"
   ]
  },
  {
   "cell_type": "markdown",
   "metadata": {
    "id": "aK8_JanrPRDP"
   },
   "source": [
    "<h3><b>Data Visualization"
   ]
  },
  {
   "cell_type": "code",
   "execution_count": 525,
   "metadata": {
    "colab": {
     "base_uri": "https://localhost:8080/",
     "height": 483
    },
    "executionInfo": {
     "elapsed": 1962,
     "status": "ok",
     "timestamp": 1623912211086,
     "user": {
      "displayName": "Ashima IIITD",
      "photoUrl": "https://lh3.googleusercontent.com/a-/AOh14Gg51iTXizYDNTZkEdwmQ5GkwRQ8vp_9KTB8UVlC=s64",
      "userId": "02694856405090268186"
     },
     "user_tz": -330
    },
    "id": "zk0F49gC3Abg",
    "outputId": "79ae424c-4a7b-4588-a4e0-bc701b98ea6b"
   },
   "outputs": [
    {
     "data": {
      "image/png": "[encoded data removed]",
      "text/plain": [
       "<Figure size 5500x1500 with 1 Axes>"
      ]
     },
     "metadata": {},
     "output_type": "display_data"
    }
   ],
   "source": [
    "publications = {}\n",
    "for year in dataset['Year-Of-Publication']:\n",
    "    if str(year) not in publications:\n",
    "        publications[str(year)] = 0\n",
    "    publications[str(year)] +=1\n",
    "\n",
    "publications = {k:v for k, v in sorted(publications.items())}\n",
    "\n",
    "fig = plt.figure(figsize =(55, 15))\n",
    "plt.bar(list(publications.keys()),list(publications.values()), color = 'blue')\n",
    "plt.ylabel(\"Number of books published\")\n",
    "plt.xlabel(\"Year of Publication\")\n",
    "plt.title(\"Number of books published yearly\")\n",
    "plt.margins(x = 0)\n",
    "plt.show()"
   ]
  },
  {
   "cell_type": "code",
   "execution_count": 526,
   "metadata": {
    "colab": {
     "base_uri": "https://localhost:8080/",
     "height": 421
    },
    "executionInfo": {
     "elapsed": 23698,
     "status": "ok",
     "timestamp": 1623912234782,
     "user": {
      "displayName": "Ashima IIITD",
      "photoUrl": "https://lh3.googleusercontent.com/a-/AOh14Gg51iTXizYDNTZkEdwmQ5GkwRQ8vp_9KTB8UVlC=s64",
      "userId": "02694856405090268186"
     },
     "user_tz": -330
    },
    "id": "DSug3Bcqk4dE",
    "outputId": "d1f6db5c-e041-4aeb-fa2a-efb9671a79b3"
   },
   "outputs": [
    {
     "data": {
      "text/plain": [
       "Text(0.5, 1.0, 'Number of books by an author (Top 15)')"
      ]
     },
     "execution_count": 526,
     "metadata": {},
     "output_type": "execute_result"
    },
    {
     "data": {
      "image/png": "[encoded data removed]",
      "text/plain": [
       "<Figure size 1500x600 with 1 Axes>"
      ]
     },
     "metadata": {},
     "output_type": "display_data"
    }
   ],
   "source": [
    "plt.figure(figsize=(15,6))\n",
    "sns.countplot(y=\"Book-Author\", data=books,order=books['Book-Author'].value_counts().index[0:15])\n",
    "plt.title(\"Number of books by an author (Top 15)\")"
   ]
  },
  {
   "cell_type": "code",
   "execution_count": 527,
   "metadata": {
    "colab": {
     "base_uri": "https://localhost:8080/",
     "height": 421
    },
    "executionInfo": {
     "elapsed": 4057,
     "status": "ok",
     "timestamp": 1623912238826,
     "user": {
      "displayName": "Ashima IIITD",
      "photoUrl": "https://lh3.googleusercontent.com/a-/AOh14Gg51iTXizYDNTZkEdwmQ5GkwRQ8vp_9KTB8UVlC=s64",
      "userId": "02694856405090268186"
     },
     "user_tz": -330
    },
    "id": "DbWoYudmk4aQ",
    "outputId": "bfd37b82-72b2-4179-b273-1e8ad6420634"
   },
   "outputs": [
    {
     "data": {
      "text/plain": [
       "Text(0.5, 1.0, 'Number of books published by a publisher (Top 15)')"
      ]
     },
     "execution_count": 527,
     "metadata": {},
     "output_type": "execute_result"
    },
    {
     "data": {
      "image/png": "[encoded data removed]",
      "text/plain": [
       "<Figure size 1500x600 with 1 Axes>"
      ]
     },
     "metadata": {},
     "output_type": "display_data"
    }
   ],
   "source": [
    "plt.figure(figsize=(15,6))\n",
    "sns.countplot(y=\"Publisher\", data=books,order=books['Publisher'].value_counts().index[0:15])\n",
    "plt.title(\"Number of books published by a publisher (Top 15)\")"
   ]
  },
  {
   "cell_type": "code",
   "execution_count": 528,
   "metadata": {
    "colab": {
     "base_uri": "https://localhost:8080/",
     "height": 405
    },
    "executionInfo": {
     "elapsed": 813,
     "status": "ok",
     "timestamp": 1623912239635,
     "user": {
      "displayName": "Ashima IIITD",
      "photoUrl": "https://lh3.googleusercontent.com/a-/AOh14Gg51iTXizYDNTZkEdwmQ5GkwRQ8vp_9KTB8UVlC=s64",
      "userId": "02694856405090268186"
     },
     "user_tz": -330
    },
    "id": "S_3811rdVmdC",
    "outputId": "51c1d1c8-345c-4210-bf52-841061f93379"
   },
   "outputs": [
    {
     "data": {
      "text/plain": [
       "<Axes: xlabel='Book-Rating', ylabel='count'>"
      ]
     },
     "execution_count": 528,
     "metadata": {},
     "output_type": "execute_result"
    },
    {
     "data": {
      "image/png": "[encoded data removed]",
      "text/plain": [
       "<Figure size 800x600 with 1 Axes>"
      ]
     },
     "metadata": {},
     "output_type": "display_data"
    }
   ],
   "source": [
    "plt.figure(figsize=(8,6))\n",
    "sns.countplot(x=\"Book-Rating\", data=dataset)"
   ]
  },
  {
   "cell_type": "code",
   "execution_count": 529,
   "metadata": {
    "colab": {
     "base_uri": "https://localhost:8080/",
     "height": 421
    },
    "executionInfo": {
     "elapsed": 13,
     "status": "ok",
     "timestamp": 1623912239635,
     "user": {
      "displayName": "Ashima IIITD",
      "photoUrl": "https://lh3.googleusercontent.com/a-/AOh14Gg51iTXizYDNTZkEdwmQ5GkwRQ8vp_9KTB8UVlC=s64",
      "userId": "02694856405090268186"
     },
     "user_tz": -330
    },
    "id": "fS1k4WawgmQp",
    "outputId": "b203d776-5ad7-4914-8db3-6515fd35c23e"
   },
   "outputs": [
    {
     "data": {
      "text/plain": [
       "Text(0.5, 1.0, 'Explicit Ratings')"
      ]
     },
     "execution_count": 529,
     "metadata": {},
     "output_type": "execute_result"
    },
    {
     "data": {
      "image/png": "[encoded data removed]",
      "text/plain": [
       "<Figure size 800x600 with 1 Axes>"
      ]
     },
     "metadata": {},
     "output_type": "display_data"
    }
   ],
   "source": [
    "## Explicit Ratings\n",
    "plt.figure(figsize=(8,6))\n",
    "data = dataset[dataset['Book-Rating'] != 0]\n",
    "sns.countplot(x=\"Book-Rating\", data=data)\n",
    "plt.title(\"Explicit Ratings\")"
   ]
  },
  {
   "cell_type": "code",
   "execution_count": 530,
   "metadata": {
    "colab": {
     "base_uri": "https://localhost:8080/",
     "height": 404
    },
    "executionInfo": {
     "elapsed": 9,
     "status": "ok",
     "timestamp": 1623912239636,
     "user": {
      "displayName": "Ashima IIITD",
      "photoUrl": "https://lh3.googleusercontent.com/a-/AOh14Gg51iTXizYDNTZkEdwmQ5GkwRQ8vp_9KTB8UVlC=s64",
      "userId": "02694856405090268186"
     },
     "user_tz": -330
    },
    "id": "VIhugq8mU9ti",
    "outputId": "6de3b3e7-fbb8-4e8f-bcc4-32283da73381"
   },
   "outputs": [
    {
     "data": {
      "image/png": "[encoded data removed]",
      "text/plain": [
       "<Figure size 800x600 with 1 Axes>"
      ]
     },
     "metadata": {},
     "output_type": "display_data"
    }
   ],
   "source": [
    "plt.figure(figsize=(8,6))\n",
    "users.Age.hist(bins=[10*i for i in range(1, 10)])     \n",
    "plt.title('Age Distribution')\n",
    "plt.xlabel('Age')\n",
    "plt.ylabel('Count')\n",
    "plt.show()"
   ]
  },
  {
   "cell_type": "code",
   "execution_count": 531,
   "metadata": {
    "colab": {
     "base_uri": "https://localhost:8080/",
     "height": 421
    },
    "executionInfo": {
     "elapsed": 7575,
     "status": "ok",
     "timestamp": 1623912247848,
     "user": {
      "displayName": "Ashima IIITD",
      "photoUrl": "https://lh3.googleusercontent.com/a-/AOh14Gg51iTXizYDNTZkEdwmQ5GkwRQ8vp_9KTB8UVlC=s64",
      "userId": "02694856405090268186"
     },
     "user_tz": -330
    },
    "id": "cZJkUWAEiIYy",
    "outputId": "a93b00ef-8bf6-4635-c291-2ddda92020ff"
   },
   "outputs": [
    {
     "data": {
      "text/plain": [
       "Text(0.5, 1.0, 'Number of readers from each city (Top 15)')"
      ]
     },
     "execution_count": 531,
     "metadata": {},
     "output_type": "execute_result"
    },
    {
     "data": {
      "image/png": "[encoded data removed]",
      "text/plain": [
       "<Figure size 2000x600 with 1 Axes>"
      ]
     },
     "metadata": {},
     "output_type": "display_data"
    }
   ],
   "source": [
    "plt.figure(figsize=(20,6))\n",
    "sns.countplot(x=\"City\", data=users,order=users['City'].value_counts().index[0:15])\n",
    "plt.title(\"Number of readers from each city (Top 15)\")"
   ]
  },
  {
   "cell_type": "code",
   "execution_count": 532,
   "metadata": {
    "colab": {
     "base_uri": "https://localhost:8080/",
     "height": 421
    },
    "executionInfo": {
     "elapsed": 2183,
     "status": "ok",
     "timestamp": 1623912250019,
     "user": {
      "displayName": "Ashima IIITD",
      "photoUrl": "https://lh3.googleusercontent.com/a-/AOh14Gg51iTXizYDNTZkEdwmQ5GkwRQ8vp_9KTB8UVlC=s64",
      "userId": "02694856405090268186"
     },
     "user_tz": -330
    },
    "id": "PZWkwtTgiIc7",
    "outputId": "d3604016-7585-4423-d382-c2121e059d04"
   },
   "outputs": [
    {
     "data": {
      "text/plain": [
       "Text(0.5, 1.0, 'Number of readers from each state (Top 15)')"
      ]
     },
     "execution_count": 532,
     "metadata": {},
     "output_type": "execute_result"
    },
    {
     "data": {
      "image/png": "[encoded data removed]",
      "text/plain": [
       "<Figure size 2000x600 with 1 Axes>"
      ]
     },
     "metadata": {},
     "output_type": "display_data"
    }
   ],
   "source": [
    "plt.figure(figsize=(20,6))\n",
    "sns.countplot(x=\"State\", data=users,order=users['State'].value_counts().index[0:15])\n",
    "plt.title(\"Number of readers from each state (Top 15)\")"
   ]
  },
  {
   "cell_type": "code",
   "execution_count": 533,
   "metadata": {
    "colab": {
     "base_uri": "https://localhost:8080/",
     "height": 530
    },
    "executionInfo": {
     "elapsed": 946,
     "status": "ok",
     "timestamp": 1623912250962,
     "user": {
      "displayName": "Ashima IIITD",
      "photoUrl": "https://lh3.googleusercontent.com/a-/AOh14Gg51iTXizYDNTZkEdwmQ5GkwRQ8vp_9KTB8UVlC=s64",
      "userId": "02694856405090268186"
     },
     "user_tz": -330
    },
    "id": "IwumrrqziIWw",
    "outputId": "e19fe099-2dc7-46db-a8aa-e08408c7ead1"
   },
   "outputs": [
    {
     "data": {
      "text/plain": [
       "Text(0.5, 1.0, 'Number of readers from each country (Top 10)')"
      ]
     },
     "execution_count": 533,
     "metadata": {},
     "output_type": "execute_result"
    },
    {
     "data": {
      "image/png": "[encoded data removed]",
      "text/plain": [
       "<Figure size 1500x800 with 1 Axes>"
      ]
     },
     "metadata": {},
     "output_type": "display_data"
    }
   ],
   "source": [
    "plt.figure(figsize=(15,8))\n",
    "sns.countplot(x=\"Country\", data=users, order=users['Country'].value_counts().index[0:10])\n",
    "plt.title(\"Number of readers from each country (Top 10)\")"
   ]
  },
  {
   "cell_type": "code",
   "execution_count": 534,
   "metadata": {
    "colab": {
     "base_uri": "https://localhost:8080/",
     "height": 421
    },
    "executionInfo": {
     "elapsed": 737,
     "status": "ok",
     "timestamp": 1623912251690,
     "user": {
      "displayName": "Ashima IIITD",
      "photoUrl": "https://lh3.googleusercontent.com/a-/AOh14Gg51iTXizYDNTZkEdwmQ5GkwRQ8vp_9KTB8UVlC=s64",
      "userId": "02694856405090268186"
     },
     "user_tz": -330
    },
    "id": "T_tbVE0XqS_e",
    "outputId": "48efb6e9-91ee-4bdc-8272-81096bbce0b5"
   },
   "outputs": [
    {
     "data": {
      "text/plain": [
       "Text(0.5, 1.0, 'No of readers from states of USA (Top 15)')"
      ]
     },
     "execution_count": 534,
     "metadata": {},
     "output_type": "execute_result"
    },
    {
     "data": {
      "image/png": "[encoded data removed]",
      "text/plain": [
       "<Figure size 2000x600 with 1 Axes>"
      ]
     },
     "metadata": {},
     "output_type": "display_data"
    }
   ],
   "source": [
    "data=users[users['Country']=='usa']\n",
    "plt.figure(figsize=(20,6))\n",
    "sns.countplot(x=\"State\", data=data,order=data['State'].value_counts().index[0:15])\n",
    "plt.title(\"No of readers from states of USA (Top 15)\")"
   ]
  },
  {
   "cell_type": "code",
   "execution_count": 535,
   "metadata": {
    "colab": {
     "base_uri": "https://localhost:8080/",
     "height": 530
    },
    "executionInfo": {
     "elapsed": 205690,
     "status": "ok",
     "timestamp": 1623912457376,
     "user": {
      "displayName": "Ashima IIITD",
      "photoUrl": "https://lh3.googleusercontent.com/a-/AOh14Gg51iTXizYDNTZkEdwmQ5GkwRQ8vp_9KTB8UVlC=s64",
      "userId": "02694856405090268186"
     },
     "user_tz": -330
    },
    "id": "zsktJpPyfWZs",
    "outputId": "c0eb745f-2621-4480-9454-85ee4845b230"
   },
   "outputs": [
    {
     "data": {
      "text/plain": [
       "Text(0.5, 1.0, 'Number of Ratings for a book (Top 15)')"
      ]
     },
     "execution_count": 535,
     "metadata": {},
     "output_type": "execute_result"
    },
    {
     "data": {
      "image/png": "[encoded data removed]",
      "text/plain": [
       "<Figure size 1500x800 with 1 Axes>"
      ]
     },
     "metadata": {},
     "output_type": "display_data"
    }
   ],
   "source": [
    "plt.figure(figsize=(15,8))\n",
    "sns.countplot(y=\"Book-Title\", data=dataset, order=dataset['Book-Title'].value_counts().index[0:15])\n",
    "plt.title(\"Number of Ratings for a book (Top 15)\")"
   ]
  },
  {
   "cell_type": "markdown",
   "metadata": {
    "id": "TKoVFMC2Ts8B"
   },
   "source": [
    "<h2><b>Recommendation Systems"
   ]
  },
  {
   "cell_type": "code",
   "execution_count": 536,
   "metadata": {
    "colab": {
     "base_uri": "https://localhost:8080/"
    },
    "executionInfo": {
     "elapsed": 31614,
     "status": "ok",
     "timestamp": 1623912488976,
     "user": {
      "displayName": "Ashima IIITD",
      "photoUrl": "https://lh3.googleusercontent.com/a-/AOh14Gg51iTXizYDNTZkEdwmQ5GkwRQ8vp_9KTB8UVlC=s64",
      "userId": "02694856405090268186"
     },
     "user_tz": -330
    },
    "id": "XYOgNMcXxVWM",
    "outputId": "e061a0e6-4466-4668-f28a-7c2cc53dd77b"
   },
   "outputs": [],
   "source": [
    "# bookName = input(\"Enter a book name: \")\n",
    "# number = int(input(\"Enter number of books to recommend: \"))\n",
    "bookName = \"The Kitchen God's Wife\"\n",
    "number = 5\n",
    "# Harry Potter and the Sorcerer's Stone (Harry Potter (Paperback))"
   ]
  },
  {
   "cell_type": "markdown",
   "metadata": {
    "id": "4re4K27hZO1R"
   },
   "source": [
    "<h5><b> 1. Popularity Based (Top In whole collection)"
   ]
  },
  {
   "cell_type": "code",
   "execution_count": 537,
   "metadata": {
    "executionInfo": {
     "elapsed": 12,
     "status": "ok",
     "timestamp": 1623912488976,
     "user": {
      "displayName": "Ashima IIITD",
      "photoUrl": "https://lh3.googleusercontent.com/a-/AOh14Gg51iTXizYDNTZkEdwmQ5GkwRQ8vp_9KTB8UVlC=s64",
      "userId": "02694856405090268186"
     },
     "user_tz": -330
    },
    "id": "xxEj1Y-AQf-r"
   },
   "outputs": [],
   "source": [
    "def popularity_based(dataframe, n):\n",
    "    if n >= 1 and n <= len(dataframe):\n",
    "        data = pd.DataFrame(dataframe.groupby('ISBN')['Book-Rating'].count()).sort_values('Book-Rating', ascending=False).head(n)\n",
    "        result = pd.merge(data, books, on='ISBN', how='inner')\n",
    "        return result\n",
    "    return \"Invalid number of books entered!!\""
   ]
  },
  {
   "cell_type": "code",
   "execution_count": 538,
   "metadata": {
    "colab": {
     "base_uri": "https://localhost:8080/",
     "height": 221
    },
    "executionInfo": {
     "elapsed": 681,
     "status": "ok",
     "timestamp": 1623912489646,
     "user": {
      "displayName": "Ashima IIITD",
      "photoUrl": "https://lh3.googleusercontent.com/a-/AOh14Gg51iTXizYDNTZkEdwmQ5GkwRQ8vp_9KTB8UVlC=s64",
      "userId": "02694856405090268186"
     },
     "user_tz": -330
    },
    "id": "eAqbJVdPQgIy",
    "outputId": "2b57c885-9256-4800-d152-cc7bfb2e731d"
   },
   "outputs": [
    {
     "name": "stdout",
     "output_type": "stream",
     "text": [
      "Top 5 Popular books are: \n"
     ]
    },
    {
     "data": {
      "text/html": [
       "<div>\n",
       "<style scoped>\n",
       "    .dataframe tbody tr th:only-of-type {\n",
       "        vertical-align: middle;\n",
       "    }\n",
       "\n",
       "    .dataframe tbody tr th {\n",
       "        vertical-align: top;\n",
       "    }\n",
       "\n",
       "    .dataframe thead th {\n",
       "        text-align: right;\n",
       "    }\n",
       "</style>\n",
       "<table border=\"1\" class=\"dataframe\">\n",
       "  <thead>\n",
       "    <tr style=\"text-align: right;\">\n",
       "      <th></th>\n",
       "      <th>ISBN</th>\n",
       "      <th>Book-Rating</th>\n",
       "      <th>Book-Title</th>\n",
       "      <th>Book-Author</th>\n",
       "      <th>Year-Of-Publication</th>\n",
       "      <th>Publisher</th>\n",
       "    </tr>\n",
       "  </thead>\n",
       "  <tbody>\n",
       "    <tr>\n",
       "      <th>0</th>\n",
       "      <td>0316666343</td>\n",
       "      <td>707</td>\n",
       "      <td>The Lovely Bones: A Novel</td>\n",
       "      <td>Alice Sebold</td>\n",
       "      <td>2002</td>\n",
       "      <td>Little, Brown</td>\n",
       "    </tr>\n",
       "    <tr>\n",
       "      <th>1</th>\n",
       "      <td>0971880107</td>\n",
       "      <td>581</td>\n",
       "      <td>Wild Animus</td>\n",
       "      <td>Rich Shapero</td>\n",
       "      <td>2004</td>\n",
       "      <td>Too Far</td>\n",
       "    </tr>\n",
       "    <tr>\n",
       "      <th>2</th>\n",
       "      <td>0385504209</td>\n",
       "      <td>488</td>\n",
       "      <td>The Da Vinci Code</td>\n",
       "      <td>Dan Brown</td>\n",
       "      <td>2003</td>\n",
       "      <td>Doubleday</td>\n",
       "    </tr>\n",
       "    <tr>\n",
       "      <th>3</th>\n",
       "      <td>0312195516</td>\n",
       "      <td>383</td>\n",
       "      <td>The Red Tent (Bestselling Backlist)</td>\n",
       "      <td>Anita Diamant</td>\n",
       "      <td>1998</td>\n",
       "      <td>Picador USA</td>\n",
       "    </tr>\n",
       "    <tr>\n",
       "      <th>4</th>\n",
       "      <td>0060928336</td>\n",
       "      <td>320</td>\n",
       "      <td>Divine Secrets of the Ya-Ya Sisterhood: A Novel</td>\n",
       "      <td>Rebecca Wells</td>\n",
       "      <td>1997</td>\n",
       "      <td>Perennial</td>\n",
       "    </tr>\n",
       "  </tbody>\n",
       "</table>\n",
       "</div>"
      ],
      "text/plain": [
       "         ISBN  Book-Rating                                       Book-Title  \\\n",
       "0  0316666343          707                        The Lovely Bones: A Novel   \n",
       "1  0971880107          581                                      Wild Animus   \n",
       "2  0385504209          488                                The Da Vinci Code   \n",
       "3  0312195516          383              The Red Tent (Bestselling Backlist)   \n",
       "4  0060928336          320  Divine Secrets of the Ya-Ya Sisterhood: A Novel   \n",
       "\n",
       "     Book-Author  Year-Of-Publication      Publisher  \n",
       "0   Alice Sebold                 2002  Little, Brown  \n",
       "1   Rich Shapero                 2004        Too Far  \n",
       "2      Dan Brown                 2003      Doubleday  \n",
       "3  Anita Diamant                 1998    Picador USA  \n",
       "4  Rebecca Wells                 1997      Perennial  "
      ]
     },
     "execution_count": 538,
     "metadata": {},
     "output_type": "execute_result"
    }
   ],
   "source": [
    "print(\"Top\", number, \"Popular books are: \")\n",
    "popularity_based(dataset1, number)"
   ]
  },
  {
   "cell_type": "markdown",
   "metadata": {
    "id": "JTgBu6nRZmTQ"
   },
   "source": [
    "<h5><b>2. Popularity Based (Top In a given place)"
   ]
  },
  {
   "cell_type": "code",
   "execution_count": 539,
   "metadata": {
    "executionInfo": {
     "elapsed": 17,
     "status": "ok",
     "timestamp": 1623912489646,
     "user": {
      "displayName": "Ashima IIITD",
      "photoUrl": "https://lh3.googleusercontent.com/a-/AOh14Gg51iTXizYDNTZkEdwmQ5GkwRQ8vp_9KTB8UVlC=s64",
      "userId": "02694856405090268186"
     },
     "user_tz": -330
    },
    "id": "xsnuHjyAb1mk"
   },
   "outputs": [],
   "source": [
    "def search_unique_places(dataframe, place):\n",
    "    place = place.lower()\n",
    "\n",
    "    if place in list(dataframe['City'].unique()):\n",
    "        return dataframe[dataframe['City'] == place]\n",
    "    elif place in list(dataframe['State'].unique()):\n",
    "        return dataframe[dataframe['State'] == place]\n",
    "    elif place in list(dataframe['Country'].unique()):\n",
    "        return dataframe[dataframe['Country'] == place]\n",
    "    else:\n",
    "        return \"Invalid Entry\""
   ]
  },
  {
   "cell_type": "code",
   "execution_count": 540,
   "metadata": {
    "colab": {
     "base_uri": "https://localhost:8080/",
     "height": 221
    },
    "executionInfo": {
     "elapsed": 3986,
     "status": "ok",
     "timestamp": 1623912493626,
     "user": {
      "displayName": "Ashima IIITD",
      "photoUrl": "https://lh3.googleusercontent.com/a-/AOh14Gg51iTXizYDNTZkEdwmQ5GkwRQ8vp_9KTB8UVlC=s64",
      "userId": "02694856405090268186"
     },
     "user_tz": -330
    },
    "id": "6BE_bSaSddwP",
    "outputId": "0eda99e3-c774-42fb-9a98-3dca8b6336d9"
   },
   "outputs": [
    {
     "data": {
      "text/html": [
       "<div>\n",
       "<style scoped>\n",
       "    .dataframe tbody tr th:only-of-type {\n",
       "        vertical-align: middle;\n",
       "    }\n",
       "\n",
       "    .dataframe tbody tr th {\n",
       "        vertical-align: top;\n",
       "    }\n",
       "\n",
       "    .dataframe thead th {\n",
       "        text-align: right;\n",
       "    }\n",
       "</style>\n",
       "<table border=\"1\" class=\"dataframe\">\n",
       "  <thead>\n",
       "    <tr style=\"text-align: right;\">\n",
       "      <th></th>\n",
       "      <th>ISBN</th>\n",
       "      <th>Book-Rating</th>\n",
       "      <th>Book-Title</th>\n",
       "      <th>Book-Author</th>\n",
       "      <th>Year-Of-Publication</th>\n",
       "      <th>Publisher</th>\n",
       "    </tr>\n",
       "  </thead>\n",
       "  <tbody>\n",
       "    <tr>\n",
       "      <th>0</th>\n",
       "      <td>0316666343</td>\n",
       "      <td>4</td>\n",
       "      <td>The Lovely Bones: A Novel</td>\n",
       "      <td>Alice Sebold</td>\n",
       "      <td>2002</td>\n",
       "      <td>Little, Brown</td>\n",
       "    </tr>\n",
       "    <tr>\n",
       "      <th>1</th>\n",
       "      <td>0312243022</td>\n",
       "      <td>3</td>\n",
       "      <td>The Hours : A Novel</td>\n",
       "      <td>Michael Cunningham</td>\n",
       "      <td>2000</td>\n",
       "      <td>Picador</td>\n",
       "    </tr>\n",
       "    <tr>\n",
       "      <th>2</th>\n",
       "      <td>044900371X</td>\n",
       "      <td>3</td>\n",
       "      <td>The Orchid Thief (Ballantine Reader's Circle)</td>\n",
       "      <td>Susan Orlean</td>\n",
       "      <td>2000</td>\n",
       "      <td>Ballantine Books</td>\n",
       "    </tr>\n",
       "    <tr>\n",
       "      <th>3</th>\n",
       "      <td>0140077022</td>\n",
       "      <td>2</td>\n",
       "      <td>White Noise (Contemporary American Fiction)</td>\n",
       "      <td>Don DeLillo</td>\n",
       "      <td>1991</td>\n",
       "      <td>Penguin Books</td>\n",
       "    </tr>\n",
       "    <tr>\n",
       "      <th>4</th>\n",
       "      <td>0316776963</td>\n",
       "      <td>2</td>\n",
       "      <td>Me Talk Pretty One Day</td>\n",
       "      <td>David Sedaris</td>\n",
       "      <td>2001</td>\n",
       "      <td>Back Bay Books</td>\n",
       "    </tr>\n",
       "  </tbody>\n",
       "</table>\n",
       "</div>"
      ],
      "text/plain": [
       "         ISBN  Book-Rating                                     Book-Title  \\\n",
       "0  0316666343            4                      The Lovely Bones: A Novel   \n",
       "1  0312243022            3                            The Hours : A Novel   \n",
       "2  044900371X            3  The Orchid Thief (Ballantine Reader's Circle)   \n",
       "3  0140077022            2    White Noise (Contemporary American Fiction)   \n",
       "4  0316776963            2                         Me Talk Pretty One Day   \n",
       "\n",
       "          Book-Author  Year-Of-Publication         Publisher  \n",
       "0        Alice Sebold                 2002     Little, Brown  \n",
       "1  Michael Cunningham                 2000           Picador  \n",
       "2        Susan Orlean                 2000  Ballantine Books  \n",
       "3         Don DeLillo                 1991     Penguin Books  \n",
       "4       David Sedaris                 2001    Back Bay Books  "
      ]
     },
     "execution_count": 540,
     "metadata": {},
     "output_type": "execute_result"
    }
   ],
   "source": [
    "# place = input(\"Enter the name of place: \")\n",
    "place = 'washington'\n",
    "data = search_unique_places(dataset1, place)\n",
    "\n",
    "if isinstance(data, pd.DataFrame):\n",
    "    data = popularity_based(data, number)\n",
    "\n",
    "data"
   ]
  },
  {
   "cell_type": "markdown",
   "metadata": {
    "id": "tXrOOhLs_YAC"
   },
   "source": [
    "<b><h5>3. Books by same author, publisher of given book name"
   ]
  },
  {
   "cell_type": "code",
   "execution_count": 541,
   "metadata": {
    "executionInfo": {
     "elapsed": 15,
     "status": "ok",
     "timestamp": 1623912493626,
     "user": {
      "displayName": "Ashima IIITD",
      "photoUrl": "https://lh3.googleusercontent.com/a-/AOh14Gg51iTXizYDNTZkEdwmQ5GkwRQ8vp_9KTB8UVlC=s64",
      "userId": "02694856405090268186"
     },
     "user_tz": -330
    },
    "id": "vhKTvXM2BNzN"
   },
   "outputs": [],
   "source": [
    "def printBook(k, n):\n",
    "    z = k['Book-Title'].unique()\n",
    "    for x in range(len(z)):\n",
    "        print(z[x])\n",
    "        if x >= n-1:\n",
    "            break"
   ]
  },
  {
   "cell_type": "code",
   "execution_count": 542,
   "metadata": {
    "executionInfo": {
     "elapsed": 15,
     "status": "ok",
     "timestamp": 1623912493627,
     "user": {
      "displayName": "Ashima IIITD",
      "photoUrl": "https://lh3.googleusercontent.com/a-/AOh14Gg51iTXizYDNTZkEdwmQ5GkwRQ8vp_9KTB8UVlC=s64",
      "userId": "02694856405090268186"
     },
     "user_tz": -330
    },
    "id": "NvbjfVJYAGIO"
   },
   "outputs": [],
   "source": [
    "def get_books(dataframe, name, n):\n",
    "    print(\"\\nBooks by same Author:\\n\")\n",
    "    au = dataframe['Book-Author'].unique()\n",
    "\n",
    "    data = dataset1[dataset1['Book-Title'] != name]\n",
    "\n",
    "    if au[0] in list(data['Book-Author'].unique()):\n",
    "        k2 = data[data['Book-Author'] == au[0]]\n",
    "    k2 = k2.sort_values(by=['Book-Rating'])\n",
    "    printBook(k2, n)\n",
    "\n",
    "    print(\"\\n\\nBooks by same Publisher:\\n\")\n",
    "    au = dataframe['Publisher'].unique()\n",
    "\n",
    "    if au[0] in list(data['Publisher'].unique()):\n",
    "        k2 = pd.DataFrame(data[data['Publisher'] == au[0]])\n",
    "    k2=k2.sort_values(by=['Book-Rating']) \n",
    "    printBook(k2, n)"
   ]
  },
  {
   "cell_type": "code",
   "execution_count": 543,
   "metadata": {
    "colab": {
     "base_uri": "https://localhost:8080/"
    },
    "executionInfo": {
     "elapsed": 884,
     "status": "ok",
     "timestamp": 1623912494496,
     "user": {
      "displayName": "Ashima IIITD",
      "photoUrl": "https://lh3.googleusercontent.com/a-/AOh14Gg51iTXizYDNTZkEdwmQ5GkwRQ8vp_9KTB8UVlC=s64",
      "userId": "02694856405090268186"
     },
     "user_tz": -330
    },
    "id": "iF_ufzzTdeAr",
    "outputId": "c7ea0bc8-3f6c-4962-b70c-1cec5c806a80"
   },
   "outputs": [
    {
     "name": "stdout",
     "output_type": "stream",
     "text": [
      "\n",
      "Books by same Author:\n",
      "\n",
      "The Hundred Secret Senses\n",
      "The Bonesetter's Daughter\n",
      "The Opposite of Fate: A Book of Musings\n",
      "The Joy Luck Club\n",
      "Il Circolo Della Fortuna E Della Felicita\n",
      "\n",
      "\n",
      "Books by same Publisher:\n",
      "\n",
      "Hush Money\n",
      "Black Notice\n",
      "Isle of Dogs\n",
      "The Nightingale Legacy\n",
      "Here on Earth (Oprah's Book Club (Hardcover))\n"
     ]
    }
   ],
   "source": [
    "if bookName in list(dataset1['Book-Title'].unique()):\n",
    "    d = dataset1[dataset1['Book-Title'] == bookName]\n",
    "    get_books(d, bookName, number)\n",
    "else:\n",
    "    print(\"Invalid Book Name!!\")"
   ]
  },
  {
   "cell_type": "markdown",
   "metadata": {
    "id": "W6m47CPTQ9IT"
   },
   "source": [
    "<h5><b>4. Books popular Yearly"
   ]
  },
  {
   "cell_type": "code",
   "execution_count": 544,
   "metadata": {
    "colab": {
     "base_uri": "https://localhost:8080/",
     "height": 1000
    },
    "executionInfo": {
     "elapsed": 12713,
     "status": "ok",
     "timestamp": 1623912507206,
     "user": {
      "displayName": "Ashima IIITD",
      "photoUrl": "https://lh3.googleusercontent.com/a-/AOh14Gg51iTXizYDNTZkEdwmQ5GkwRQ8vp_9KTB8UVlC=s64",
      "userId": "02694856405090268186"
     },
     "user_tz": -330
    },
    "id": "zSXb3OHSV3sq",
    "outputId": "4abc18e3-48dd-4cdc-d892-ddcea7b03672",
    "scrolled": false
   },
   "outputs": [
    {
     "data": {
      "text/html": [
       "<div>\n",
       "<style scoped>\n",
       "    .dataframe tbody tr th:only-of-type {\n",
       "        vertical-align: middle;\n",
       "    }\n",
       "\n",
       "    .dataframe tbody tr th {\n",
       "        vertical-align: top;\n",
       "    }\n",
       "\n",
       "    .dataframe thead th {\n",
       "        text-align: right;\n",
       "    }\n",
       "</style>\n",
       "<table border=\"1\" class=\"dataframe\">\n",
       "  <thead>\n",
       "    <tr style=\"text-align: right;\">\n",
       "      <th></th>\n",
       "      <th>ISBN</th>\n",
       "      <th>Book-Title</th>\n",
       "      <th>Book-Author</th>\n",
       "      <th>Year-Of-Publication</th>\n",
       "      <th>Publisher</th>\n",
       "    </tr>\n",
       "  </thead>\n",
       "  <tbody>\n",
       "    <tr>\n",
       "      <th>149309</th>\n",
       "      <td>964442011X</td>\n",
       "      <td>Tasht-i khun</td>\n",
       "      <td>IsmaÂ°il Fasih</td>\n",
       "      <td>1376</td>\n",
       "      <td>Nashr-i Alburz</td>\n",
       "    </tr>\n",
       "    <tr>\n",
       "      <th>149308</th>\n",
       "      <td>9643112136</td>\n",
       "      <td>Dalan-i bihisht (Dastan-i Irani)</td>\n",
       "      <td>Nazi Safavi</td>\n",
       "      <td>1378</td>\n",
       "      <td>Intisharat-i Quqnus</td>\n",
       "    </tr>\n",
       "    <tr>\n",
       "      <th>92425</th>\n",
       "      <td>0781228956</td>\n",
       "      <td>Complete Works 10 Volumes [2,6,7,8,9] (Notable American Authors)</td>\n",
       "      <td>Benjamin Franklin</td>\n",
       "      <td>1806</td>\n",
       "      <td>Reprint Services Corp</td>\n",
       "    </tr>\n",
       "    <tr>\n",
       "      <th>118778</th>\n",
       "      <td>1551103982</td>\n",
       "      <td>The Cycling Adventures of Coconut Head: A North American Odyssey</td>\n",
       "      <td>Ted Schredd</td>\n",
       "      <td>1900</td>\n",
       "      <td>Graphic Arts Center Pub Co</td>\n",
       "    </tr>\n",
       "    <tr>\n",
       "      <th>74304</th>\n",
       "      <td>0671397214</td>\n",
       "      <td>JOY OF MUSIC     P</td>\n",
       "      <td>Leonard Bernstein</td>\n",
       "      <td>1901</td>\n",
       "      <td>Fireside</td>\n",
       "    </tr>\n",
       "  </tbody>\n",
       "</table>\n",
       "</div>"
      ],
      "text/plain": [
       "              ISBN  \\\n",
       "149309  964442011X   \n",
       "149308  9643112136   \n",
       "92425   0781228956   \n",
       "118778  1551103982   \n",
       "74304   0671397214   \n",
       "\n",
       "                                                              Book-Title  \\\n",
       "149309                                                      Tasht-i khun   \n",
       "149308                                  Dalan-i bihisht (Dastan-i Irani)   \n",
       "92425   Complete Works 10 Volumes [2,6,7,8,9] (Notable American Authors)   \n",
       "118778  The Cycling Adventures of Coconut Head: A North American Odyssey   \n",
       "74304                                                 JOY OF MUSIC     P   \n",
       "\n",
       "              Book-Author  Year-Of-Publication                   Publisher  \n",
       "149309     IsmaÂ°il Fasih                 1376              Nashr-i Alburz  \n",
       "149308        Nazi Safavi                 1378         Intisharat-i Quqnus  \n",
       "92425   Benjamin Franklin                 1806       Reprint Services Corp  \n",
       "118778        Ted Schredd                 1900  Graphic Arts Center Pub Co  \n",
       "74304   Leonard Bernstein                 1901                    Fireside  "
      ]
     },
     "execution_count": 544,
     "metadata": {},
     "output_type": "execute_result"
    }
   ],
   "source": [
    "data = pd.DataFrame(dataset1.groupby('ISBN')['Book-Rating'].count()).sort_values('Book-Rating', ascending=False)\n",
    "data = pd.merge(data, books, on='ISBN', how='inner')\n",
    "\n",
    "years = set()\n",
    "indices = []\n",
    "for ind, row in data.iterrows():\n",
    "    if row['Year-Of-Publication'] in years:\n",
    "        indices.append(ind)\n",
    "    else:\n",
    "        years.add(row['Year-Of-Publication'])\n",
    "\n",
    "data = data.drop(indices)\n",
    "data = data.drop('Book-Rating', axis = 1)\n",
    "data = data.sort_values('Year-Of-Publication')\n",
    "\n",
    "pd.set_option(\"display.max_rows\", None, \"display.max_columns\", None)\n",
    "data.head(5)"
   ]
  },
  {
   "cell_type": "markdown",
   "metadata": {
    "id": "wq6UNh5HjdBC"
   },
   "source": [
    "<b><h5>5. Average Weighted Ratings"
   ]
  },
  {
   "cell_type": "code",
   "execution_count": 545,
   "metadata": {
    "executionInfo": {
     "elapsed": 670,
     "status": "ok",
     "timestamp": 1623912507862,
     "user": {
      "displayName": "Ashima IIITD",
      "photoUrl": "https://lh3.googleusercontent.com/a-/AOh14Gg51iTXizYDNTZkEdwmQ5GkwRQ8vp_9KTB8UVlC=s64",
      "userId": "02694856405090268186"
     },
     "user_tz": -330
    },
    "id": "ilzR4tNhc6ts"
   },
   "outputs": [
    {
     "name": "stdout",
     "output_type": "stream",
     "text": [
      "Recommended Books:-\n",
      "\n",
      "Top 10 Popular books are:\n",
      "                                                     Book-Title  \\\n",
      "45384     Harry Potter and the Chamber of Secrets Postcard Book   \n",
      "119087           The Two Towers (The Lord of the Rings, Part 2)   \n",
      "29409                              Dilbert: A Book of Postcards   \n",
      "17286                                         Calvin and Hobbes   \n",
      "79804          Postmarked Yesteryear: 30 Rare Holiday Postcards   \n",
      "98356   The Authoritative Calvin and Hobbes (Calvin and Hobbes)   \n",
      "70919              My Sister's Keeper : A Novel (Picoult, Jodi)   \n",
      "115154   The Return of the King (The Lord of the Rings, Part 3)   \n",
      "115151   The Return of the King (The Lord of The Rings, Part 3)   \n",
      "106067                                          The Giving Tree   \n",
      "\n",
      "        Total-Ratings  Average Rating     score  \n",
      "45384              23        9.869565  9.450517  \n",
      "119087            136        9.330882  9.266769  \n",
      "29409              13        9.923077  9.256360  \n",
      "17286              24        9.583333  9.228085  \n",
      "79804              11       10.000000  9.225905  \n",
      "98356              20        9.600000  9.184579  \n",
      "70919              22        9.545455  9.170907  \n",
      "115154            103        9.213592  9.135319  \n",
      "115151             16        9.625000  9.124499  \n",
      "106067             26        9.423077  9.116596  \n"
     ]
    }
   ],
   "source": [
    "# 1. Tính toán Total-Ratings (v) và Average Rating (R) MỘT CÁCH HIỆU QUẢ\n",
    "\n",
    "rating_data = dataset1.groupby('Book-Title')['Book-Rating'].agg([\n",
    "    # Cách đặt tên cột mới và hàm tổng hợp rõ ràng hơn\n",
    "    ('Book-Rating_count', 'count'), \n",
    "    ('Average Rating', 'mean')\n",
    "])\n",
    "\n",
    "# Sau khi chạy agg, index vẫn là 'Book-Title', cột là 'Book-Rating_count' và 'Average Rating'\n",
    "# Index column: Book-Title\n",
    "# Column names: Book-Rating_count, Average Rating\n",
    "\n",
    "# Chuyển Index 'Book-Title' thành cột thông thường\n",
    "df = rating_data.reset_index()\n",
    "\n",
    "# Đổi tên cột đếm sang Total-Ratings (để phù hợp với công thức)\n",
    "df.rename(columns={'Book-Rating_count': 'Total-Ratings'}, inplace=True)\n",
    "\n",
    "# ----------------------------------------------------------------------\n",
    "## Bắt đầu tính Weighted Score\n",
    "\n",
    "# ## C - Mean vote across the whole (c)\n",
    "C = df['Average Rating'].mean()\n",
    "\n",
    "# ## Minimum number of votes required to be in the chart (m)\n",
    "# m - number of votes (total ratings) at the 90th percentile\n",
    "m = df['Total-Ratings'].quantile(0.90)\n",
    "\n",
    "def weighted_rating(x, m=m, C=C): \n",
    "    v = x['Total-Ratings']    # t\n",
    "    R = x['Average Rating']   # a\n",
    "    return (v / (v + m) * R) + (m / (m + v) * C) \n",
    "\n",
    "# Lọc\n",
    "df = df.loc[df['Total-Ratings'] >= m].copy() \n",
    "\n",
    "# Áp dụng hàm tính điểm có trọng số\n",
    "df['score'] = df.apply(weighted_rating, axis=1)\n",
    "\n",
    "# Sắp xếp và in ra kết quả\n",
    "df = df.sort_values('score', ascending=False)\n",
    "\n",
    "number = 10 # Giả định number là 10\n",
    "print(\"Recommended Books:-\\n\")\n",
    "print(f\"Top {number} Popular books are:\")\n",
    "print(df.head(number))"
   ]
  },
  {
   "cell_type": "code",
   "execution_count": 546,
   "metadata": {
    "executionInfo": {
     "elapsed": 9,
     "status": "ok",
     "timestamp": 1623912507862,
     "user": {
      "displayName": "Ashima IIITD",
      "photoUrl": "https://lh3.googleusercontent.com/a-/AOh14Gg51iTXizYDNTZkEdwmQ5GkwRQ8vp_9KTB8UVlC=s64",
      "userId": "02694856405090268186"
     },
     "user_tz": -330
    },
    "id": "ZnRxHdScj_zi"
   },
   "outputs": [],
   "source": [
    "## C - Mean vote across the whole\n",
    "C = df['Average Rating'].mean()\n",
    "\n",
    "## Minimum number of votes required to be in the chart\n",
    "m = df['Total-Ratings'].quantile(0.90)"
   ]
  },
  {
   "cell_type": "code",
   "execution_count": 547,
   "metadata": {
    "executionInfo": {
     "elapsed": 9,
     "status": "ok",
     "timestamp": 1623912507863,
     "user": {
      "displayName": "Ashima IIITD",
      "photoUrl": "https://lh3.googleusercontent.com/a-/AOh14Gg51iTXizYDNTZkEdwmQ5GkwRQ8vp_9KTB8UVlC=s64",
      "userId": "02694856405090268186"
     },
     "user_tz": -330
    },
    "id": "tFB8wKhFmYa3"
   },
   "outputs": [],
   "source": [
    "def weighted_rating(x, m=m, C=C): \n",
    "    v = x['Total-Ratings']    #v - number of votes\n",
    "    R = x['Average Rating']   #R - Average Rating   \n",
    "    return (v/(v+m) * R) + (m/(m+v) * C)"
   ]
  },
  {
   "cell_type": "code",
   "execution_count": 548,
   "metadata": {
    "colab": {
     "base_uri": "https://localhost:8080/",
     "height": 238
    },
    "executionInfo": {
     "elapsed": 8,
     "status": "ok",
     "timestamp": 1623912507863,
     "user": {
      "displayName": "Ashima IIITD",
      "photoUrl": "https://lh3.googleusercontent.com/a-/AOh14Gg51iTXizYDNTZkEdwmQ5GkwRQ8vp_9KTB8UVlC=s64",
      "userId": "02694856405090268186"
     },
     "user_tz": -330
    },
    "id": "-6bX67JBB5eq",
    "outputId": "71bff8fc-5b9e-4f88-9b8b-d27994cc8f77"
   },
   "outputs": [
    {
     "name": "stdout",
     "output_type": "stream",
     "text": [
      "Recommended Books:-\n",
      "\n"
     ]
    },
    {
     "data": {
      "text/html": [
       "<div>\n",
       "<style scoped>\n",
       "    .dataframe tbody tr th:only-of-type {\n",
       "        vertical-align: middle;\n",
       "    }\n",
       "\n",
       "    .dataframe tbody tr th {\n",
       "        vertical-align: top;\n",
       "    }\n",
       "\n",
       "    .dataframe thead th {\n",
       "        text-align: right;\n",
       "    }\n",
       "</style>\n",
       "<table border=\"1\" class=\"dataframe\">\n",
       "  <thead>\n",
       "    <tr style=\"text-align: right;\">\n",
       "      <th></th>\n",
       "      <th>Book-Title</th>\n",
       "      <th>Total-Ratings</th>\n",
       "      <th>Average Rating</th>\n",
       "      <th>score</th>\n",
       "    </tr>\n",
       "  </thead>\n",
       "  <tbody>\n",
       "    <tr>\n",
       "      <th>119087</th>\n",
       "      <td>The Two Towers (The Lord of the Rings, Part 2)</td>\n",
       "      <td>136</td>\n",
       "      <td>9.330882</td>\n",
       "      <td>9.035548</td>\n",
       "    </tr>\n",
       "    <tr>\n",
       "      <th>45388</th>\n",
       "      <td>Harry Potter and the Goblet of Fire (Book 4)</td>\n",
       "      <td>247</td>\n",
       "      <td>9.125506</td>\n",
       "      <td>8.970527</td>\n",
       "    </tr>\n",
       "    <tr>\n",
       "      <th>45400</th>\n",
       "      <td>Harry Potter and the Prisoner of Azkaban (Book 3)</td>\n",
       "      <td>277</td>\n",
       "      <td>9.043321</td>\n",
       "      <td>8.911325</td>\n",
       "    </tr>\n",
       "    <tr>\n",
       "      <th>45392</th>\n",
       "      <td>Harry Potter and the Order of the Phoenix (Book 5)</td>\n",
       "      <td>211</td>\n",
       "      <td>9.047393</td>\n",
       "      <td>8.878606</td>\n",
       "    </tr>\n",
       "    <tr>\n",
       "      <th>115154</th>\n",
       "      <td>The Return of the King (The Lord of the Rings, Part 3)</td>\n",
       "      <td>103</td>\n",
       "      <td>9.213592</td>\n",
       "      <td>8.870192</td>\n",
       "    </tr>\n",
       "    <tr>\n",
       "      <th>45407</th>\n",
       "      <td>Harry Potter and the Sorcerer's Stone (Book 1)</td>\n",
       "      <td>176</td>\n",
       "      <td>9.062500</td>\n",
       "      <td>8.862758</td>\n",
       "    </tr>\n",
       "    <tr>\n",
       "      <th>123708</th>\n",
       "      <td>To Kill a Mockingbird</td>\n",
       "      <td>267</td>\n",
       "      <td>8.977528</td>\n",
       "      <td>8.847518</td>\n",
       "    </tr>\n",
       "    <tr>\n",
       "      <th>45410</th>\n",
       "      <td>Harry Potter and the Sorcerer's Stone (Harry Potter (Paperback))</td>\n",
       "      <td>315</td>\n",
       "      <td>8.936508</td>\n",
       "      <td>8.828097</td>\n",
       "    </tr>\n",
       "    <tr>\n",
       "      <th>109862</th>\n",
       "      <td>The Little Prince</td>\n",
       "      <td>90</td>\n",
       "      <td>9.111111</td>\n",
       "      <td>8.755171</td>\n",
       "    </tr>\n",
       "    <tr>\n",
       "      <th>45381</th>\n",
       "      <td>Harry Potter and the Chamber of Secrets (Book 2)</td>\n",
       "      <td>326</td>\n",
       "      <td>8.840491</td>\n",
       "      <td>8.743283</td>\n",
       "    </tr>\n",
       "  </tbody>\n",
       "</table>\n",
       "</div>"
      ],
      "text/plain": [
       "                                                              Book-Title  \\\n",
       "119087                    The Two Towers (The Lord of the Rings, Part 2)   \n",
       "45388                       Harry Potter and the Goblet of Fire (Book 4)   \n",
       "45400                  Harry Potter and the Prisoner of Azkaban (Book 3)   \n",
       "45392                 Harry Potter and the Order of the Phoenix (Book 5)   \n",
       "115154            The Return of the King (The Lord of the Rings, Part 3)   \n",
       "45407                     Harry Potter and the Sorcerer's Stone (Book 1)   \n",
       "123708                                             To Kill a Mockingbird   \n",
       "45410   Harry Potter and the Sorcerer's Stone (Harry Potter (Paperback))   \n",
       "109862                                                 The Little Prince   \n",
       "45381                   Harry Potter and the Chamber of Secrets (Book 2)   \n",
       "\n",
       "        Total-Ratings  Average Rating     score  \n",
       "119087            136        9.330882  9.035548  \n",
       "45388             247        9.125506  8.970527  \n",
       "45400             277        9.043321  8.911325  \n",
       "45392             211        9.047393  8.878606  \n",
       "115154            103        9.213592  8.870192  \n",
       "45407             176        9.062500  8.862758  \n",
       "123708            267        8.977528  8.847518  \n",
       "45410             315        8.936508  8.828097  \n",
       "109862             90        9.111111  8.755171  \n",
       "45381             326        8.840491  8.743283  "
      ]
     },
     "execution_count": 548,
     "metadata": {},
     "output_type": "execute_result"
    }
   ],
   "source": [
    "df = df.loc[df['Total-Ratings'] >= m]\n",
    "\n",
    "df['score'] = df.apply(weighted_rating, axis=1)\n",
    "df = df.sort_values('score', ascending=False)\n",
    "\n",
    "print(\"Recommended Books:-\\n\")\n",
    "df.head(number)"
   ]
  },
  {
   "cell_type": "markdown",
   "metadata": {
    "id": "uwTmM94TvtFS"
   },
   "source": [
    "<b><h5>6. Collaborative Filtering (User-Item Filtering)"
   ]
  },
  {
   "cell_type": "markdown",
   "metadata": {
    "id": "1p702BN3ycRu"
   },
   "source": [
    "Selecting books with total ratings equals to or more than 50 (Because of availability of limited resources)"
   ]
  },
  {
   "cell_type": "code",
   "execution_count": 549,
   "metadata": {
    "executionInfo": {
     "elapsed": 513,
     "status": "ok",
     "timestamp": 1623912508370,
     "user": {
      "displayName": "Ashima IIITD",
      "photoUrl": "https://lh3.googleusercontent.com/a-/AOh14Gg51iTXizYDNTZkEdwmQ5GkwRQ8vp_9KTB8UVlC=s64",
      "userId": "02694856405090268186"
     },
     "user_tz": -330
    },
    "id": "WiVO9-5Mc7HH"
   },
   "outputs": [
    {
     "data": {
      "text/html": [
       "<div>\n",
       "<style scoped>\n",
       "    .dataframe tbody tr th:only-of-type {\n",
       "        vertical-align: middle;\n",
       "    }\n",
       "\n",
       "    .dataframe tbody tr th {\n",
       "        vertical-align: top;\n",
       "    }\n",
       "\n",
       "    .dataframe thead th {\n",
       "        text-align: right;\n",
       "    }\n",
       "</style>\n",
       "<table border=\"1\" class=\"dataframe\">\n",
       "  <thead>\n",
       "    <tr style=\"text-align: right;\">\n",
       "      <th></th>\n",
       "      <th>ISBN</th>\n",
       "      <th>Book-Title</th>\n",
       "      <th>Book-Author</th>\n",
       "      <th>User-ID</th>\n",
       "      <th>Book-Rating</th>\n",
       "      <th>Total-Ratings</th>\n",
       "    </tr>\n",
       "  </thead>\n",
       "  <tbody>\n",
       "    <tr>\n",
       "      <th>0</th>\n",
       "      <td>0399135782</td>\n",
       "      <td>The Kitchen God's Wife</td>\n",
       "      <td>Amy Tan</td>\n",
       "      <td>11676</td>\n",
       "      <td>9</td>\n",
       "      <td>116</td>\n",
       "    </tr>\n",
       "    <tr>\n",
       "      <th>1</th>\n",
       "      <td>0399135782</td>\n",
       "      <td>The Kitchen God's Wife</td>\n",
       "      <td>Amy Tan</td>\n",
       "      <td>29526</td>\n",
       "      <td>9</td>\n",
       "      <td>116</td>\n",
       "    </tr>\n",
       "    <tr>\n",
       "      <th>2</th>\n",
       "      <td>0399135782</td>\n",
       "      <td>The Kitchen God's Wife</td>\n",
       "      <td>Amy Tan</td>\n",
       "      <td>46398</td>\n",
       "      <td>9</td>\n",
       "      <td>116</td>\n",
       "    </tr>\n",
       "    <tr>\n",
       "      <th>3</th>\n",
       "      <td>0399135782</td>\n",
       "      <td>The Kitchen God's Wife</td>\n",
       "      <td>Amy Tan</td>\n",
       "      <td>49635</td>\n",
       "      <td>9</td>\n",
       "      <td>116</td>\n",
       "    </tr>\n",
       "    <tr>\n",
       "      <th>4</th>\n",
       "      <td>0399135782</td>\n",
       "      <td>The Kitchen God's Wife</td>\n",
       "      <td>Amy Tan</td>\n",
       "      <td>67958</td>\n",
       "      <td>10</td>\n",
       "      <td>116</td>\n",
       "    </tr>\n",
       "  </tbody>\n",
       "</table>\n",
       "</div>"
      ],
      "text/plain": [
       "         ISBN              Book-Title Book-Author  User-ID  Book-Rating  \\\n",
       "0  0399135782  The Kitchen God's Wife     Amy Tan    11676            9   \n",
       "1  0399135782  The Kitchen God's Wife     Amy Tan    29526            9   \n",
       "2  0399135782  The Kitchen God's Wife     Amy Tan    46398            9   \n",
       "3  0399135782  The Kitchen God's Wife     Amy Tan    49635            9   \n",
       "4  0399135782  The Kitchen God's Wife     Amy Tan    67958           10   \n",
       "\n",
       "   Total-Ratings  \n",
       "0            116  \n",
       "1            116  \n",
       "2            116  \n",
       "3            116  \n",
       "4            116  "
      ]
     },
     "execution_count": 549,
     "metadata": {},
     "output_type": "execute_result"
    }
   ],
   "source": [
    "df = pd.DataFrame(dataset1['Book-Title'].value_counts().reset_index())\n",
    "df = dataset1.merge(df, left_on = 'Book-Title', right_on = 'Book-Title', how = 'left')\n",
    "df = df.drop(['Year-Of-Publication','Publisher','Age','City','State','Country'], axis=1)\n",
    "df.rename(columns={'count': 'Total-Ratings'}, inplace=True)\n",
    "\n",
    "popularity_threshold = 50\n",
    "popular_book = df[df['Total-Ratings'] >= popularity_threshold]\n",
    "popular_book = popular_book.reset_index(drop = True)\n",
    "popular_book.head(5)"
   ]
  },
  {
   "cell_type": "markdown",
   "metadata": {
    "id": "-rS5fkuz0oY1"
   },
   "source": [
    "User - Item Collaborative Filtering"
   ]
  },
  {
   "cell_type": "code",
   "execution_count": 550,
   "metadata": {
    "executionInfo": {
     "elapsed": 860,
     "status": "ok",
     "timestamp": 1623912509228,
     "user": {
      "displayName": "Ashima IIITD",
      "photoUrl": "https://lh3.googleusercontent.com/a-/AOh14Gg51iTXizYDNTZkEdwmQ5GkwRQ8vp_9KTB8UVlC=s64",
      "userId": "02694856405090268186"
     },
     "user_tz": -330
    },
    "id": "9mEfukbkytYt"
   },
   "outputs": [],
   "source": [
    "testdf = pd.DataFrame()\n",
    "testdf['ISBN'] = popular_book['ISBN']\n",
    "testdf['Book-Rating'] = popular_book['Book-Rating']\n",
    "testdf['User-ID'] = popular_book['User-ID']\n",
    "testdf = testdf[['User-ID','Book-Rating']].groupby(testdf['ISBN'])"
   ]
  },
  {
   "cell_type": "code",
   "execution_count": 551,
   "metadata": {
    "executionInfo": {
     "elapsed": 3737,
     "status": "ok",
     "timestamp": 1623912512960,
     "user": {
      "displayName": "Ashima IIITD",
      "photoUrl": "https://lh3.googleusercontent.com/a-/AOh14Gg51iTXizYDNTZkEdwmQ5GkwRQ8vp_9KTB8UVlC=s64",
      "userId": "02694856405090268186"
     },
     "user_tz": -330
    },
    "id": "r66TqAWGytgA"
   },
   "outputs": [
    {
     "name": "stdout",
     "output_type": "stream",
     "text": [
      "Saved top-k neighbors and maps to persisted_models/\n"
     ]
    }
   ],
   "source": [
    "listOfDictonaries=[]\n",
    "indexMap = {}\n",
    "reverseIndexMap = {}\n",
    "ptr=0\n",
    "\n",
    "for groupKey in testdf.groups.keys():\n",
    "    tempDict={}\n",
    "    groupDF = testdf.get_group(groupKey)\n",
    "    for i in range(0,len(groupDF)):\n",
    "        tempDict[groupDF.iloc[i,0]] = groupDF.iloc[i,1]\n",
    "    indexMap[ptr]=groupKey\n",
    "    reverseIndexMap[groupKey] = ptr\n",
    "    ptr=ptr+1\n",
    "    listOfDictonaries.append(tempDict)\n",
    "\n",
    "dictVectorizer = DictVectorizer(sparse=True)\n",
    "vector = dictVectorizer.fit_transform(listOfDictonaries)\n",
    "pairwiseSimilarity = cosine_similarity(vector)\n",
    "\n",
    "TOP_K = 10\n",
    "\n",
    "n_items = pairwiseSimilarity.shape[0]\n",
    "topk_neighbors = {}\n",
    "\n",
    "for i in range(n_items):\n",
    "    sims = pairwiseSimilarity[i]\n",
    "    # sort desc\n",
    "    sorted_idx = np.argsort(sims)[::-1]\n",
    "    neighbors = []\n",
    "    for j in sorted_idx:\n",
    "        if j == i:\n",
    "            continue  # skip self\n",
    "        neighbors.append((indexMap[j], float(sims[j])))\n",
    "        if len(neighbors) >= TOP_K:\n",
    "            break\n",
    "    topk_neighbors[indexMap[i]] = neighbors\n",
    "\n",
    "# persist results\n",
    "joblib.dump(topk_neighbors, \"./item_topk_neighbors.pkl\")\n",
    "joblib.dump(indexMap, \"./indexMap.pkl\")\n",
    "joblib.dump(reverseIndexMap, \"./reverseIndexMap.pkl\")\n",
    "joblib.dump(dictVectorizer, \"./dict_vectorizer.pkl\")\n",
    "\n",
    "print(\"Saved top-k neighbors and maps to persisted_models/\")"
   ]
  },
  {
   "cell_type": "code",
   "execution_count": 552,
   "metadata": {
    "executionInfo": {
     "elapsed": 6,
     "status": "ok",
     "timestamp": 1623912512961,
     "user": {
      "displayName": "Ashima IIITD",
      "photoUrl": "https://lh3.googleusercontent.com/a-/AOh14Gg51iTXizYDNTZkEdwmQ5GkwRQ8vp_9KTB8UVlC=s64",
      "userId": "02694856405090268186"
     },
     "user_tz": -330
    },
    "id": "IzIV0D0W1c8T"
   },
   "outputs": [],
   "source": [
    "def printBookDetails(bookID):\n",
    "    print(dataset1[dataset1['ISBN']==bookID]['Book-Title'].values[0])\n",
    "    \"\"\"\n",
    "    print(\"Title:\", dataset1[dataset1['ISBN']==bookID]['Book-Title'].values[0])\n",
    "    print(\"Author:\",dataset1[dataset['ISBN']==bookID]['Book-Author'].values[0])\n",
    "    #print(\"Printing Book-ID:\",bookID)\n",
    "    print(\"\\n\")\n",
    "    \"\"\"\n",
    "\n",
    "def getTopRecommandations(isbn, k=10):\n",
    "    print(\"Input Book:\")\n",
    "    printBookDetails(isbn)\n",
    "\n",
    "    print(\"\\nRECOMMENDATIONS:\\n\")\n",
    "\n",
    "    recs = []\n",
    "    neighbors = topk_neighbors.get(isbn, [])\n",
    "    for nb_isbn, score in neighbors[:k]:\n",
    "        recs.append(nb_isbn)\n",
    "    return recs\n",
    "\n",
    "# def getTopRecommandations(bookID):\n",
    "#     collaborative = []\n",
    "#     row = reverseIndexMap[bookID]\n",
    "#     print(\"Input Book:\")\n",
    "#     printBookDetails(bookID)\n",
    "    \n",
    "#     print(\"\\nRECOMMENDATIONS:\\n\")\n",
    "    \n",
    "#     mn = 0\n",
    "#     similar = []\n",
    "#     for i in np.argsort(pairwiseSimilarity[row])[:-2][::-1]:\n",
    "#           if dataset1[dataset1['ISBN']==indexMap[i]]['Book-Title'].values[0] not in similar:\n",
    "#                 if mn>=number:\n",
    "#                       break\n",
    "#                 mn+=1\n",
    "#                 similar.append(dataset1[dataset1['ISBN']==indexMap[i]]['Book-Title'].values[0])\n",
    "#                 printBookDetails(indexMap[i])\n",
    "#                 collaborative.append(dataset1[dataset1['ISBN']==indexMap[i]]['Book-Title'].values[0])\n",
    "#     return collaborative"
   ]
  },
  {
   "cell_type": "code",
   "execution_count": 553,
   "metadata": {
    "colab": {
     "base_uri": "https://localhost:8080/"
    },
    "executionInfo": {
     "elapsed": 1089,
     "status": "ok",
     "timestamp": 1623912514046,
     "user": {
      "displayName": "Ashima IIITD",
      "photoUrl": "https://lh3.googleusercontent.com/a-/AOh14Gg51iTXizYDNTZkEdwmQ5GkwRQ8vp_9KTB8UVlC=s64",
      "userId": "02694856405090268186"
     },
     "user_tz": -330
    },
    "id": "S-nsb0Vy1USo",
    "outputId": "3a9a9d5f-bac2-4b16-8d66-2f4256eb4d69"
   },
   "outputs": [
    {
     "name": "stdout",
     "output_type": "stream",
     "text": [
      "Input Book:\n",
      "The Kitchen God's Wife\n",
      "\n",
      "RECOMMENDATIONS:\n",
      "\n"
     ]
    }
   ],
   "source": [
    "k = list(dataset1['Book-Title'])\n",
    "m = list(dataset1['ISBN'])\n",
    "\n",
    "recs = getTopRecommandations(m[k.index(bookName)])"
   ]
  },
  {
   "cell_type": "markdown",
   "metadata": {
    "id": "6V2ytbvjyhzb"
   },
   "source": [
    "<b><h5>7. Correlation Based"
   ]
  },
  {
   "cell_type": "code",
   "execution_count": 554,
   "metadata": {
    "executionInfo": {
     "elapsed": 3248,
     "status": "ok",
     "timestamp": 1623912517292,
     "user": {
      "displayName": "Ashima IIITD",
      "photoUrl": "https://lh3.googleusercontent.com/a-/AOh14Gg51iTXizYDNTZkEdwmQ5GkwRQ8vp_9KTB8UVlC=s64",
      "userId": "02694856405090268186"
     },
     "user_tz": -330
    },
    "id": "aufg2Tzatv__"
   },
   "outputs": [],
   "source": [
    "popularity_threshold = 50\n",
    "\n",
    "user_count = dataset1['User-ID'].value_counts()\n",
    "data = dataset1[dataset1['User-ID'].isin(user_count[user_count >= popularity_threshold].index)]\n",
    "rat_count = data['Book-Rating'].value_counts()\n",
    "data = data[data['Book-Rating'].isin(rat_count[rat_count >= popularity_threshold].index)]\n",
    "\n",
    "matrix = data.pivot_table(index='User-ID', columns='ISBN', values = 'Book-Rating').fillna(0)"
   ]
  },
  {
   "cell_type": "code",
   "execution_count": 555,
   "metadata": {
    "colab": {
     "base_uri": "https://localhost:8080/",
     "height": 235
    },
    "executionInfo": {
     "elapsed": 1086,
     "status": "ok",
     "timestamp": 1623912518366,
     "user": {
      "displayName": "Ashima IIITD",
      "photoUrl": "https://lh3.googleusercontent.com/a-/AOh14Gg51iTXizYDNTZkEdwmQ5GkwRQ8vp_9KTB8UVlC=s64",
      "userId": "02694856405090268186"
     },
     "user_tz": -330
    },
    "id": "NcaXUCR8T5z7",
    "outputId": "99f56996-f96d-4416-e8ec-214eb6588511"
   },
   "outputs": [
    {
     "data": {
      "text/html": [
       "<div>\n",
       "<style scoped>\n",
       "    .dataframe tbody tr th:only-of-type {\n",
       "        vertical-align: middle;\n",
       "    }\n",
       "\n",
       "    .dataframe tbody tr th {\n",
       "        vertical-align: top;\n",
       "    }\n",
       "\n",
       "    .dataframe thead th {\n",
       "        text-align: right;\n",
       "    }\n",
       "</style>\n",
       "<table border=\"1\" class=\"dataframe\">\n",
       "  <thead>\n",
       "    <tr style=\"text-align: right;\">\n",
       "      <th></th>\n",
       "      <th>Book-Rating</th>\n",
       "      <th>ratingCount</th>\n",
       "    </tr>\n",
       "    <tr>\n",
       "      <th>ISBN</th>\n",
       "      <th></th>\n",
       "      <th></th>\n",
       "    </tr>\n",
       "  </thead>\n",
       "  <tbody>\n",
       "    <tr>\n",
       "      <th>0971880107</th>\n",
       "      <td>4.390706</td>\n",
       "      <td>2502</td>\n",
       "    </tr>\n",
       "    <tr>\n",
       "      <th>0316666343</th>\n",
       "      <td>8.185290</td>\n",
       "      <td>1295</td>\n",
       "    </tr>\n",
       "    <tr>\n",
       "      <th>0385504209</th>\n",
       "      <td>8.426230</td>\n",
       "      <td>884</td>\n",
       "    </tr>\n",
       "    <tr>\n",
       "      <th>0060928336</th>\n",
       "      <td>7.887500</td>\n",
       "      <td>732</td>\n",
       "    </tr>\n",
       "    <tr>\n",
       "      <th>0312195516</th>\n",
       "      <td>8.182768</td>\n",
       "      <td>723</td>\n",
       "    </tr>\n",
       "  </tbody>\n",
       "</table>\n",
       "</div>"
      ],
      "text/plain": [
       "            Book-Rating  ratingCount\n",
       "ISBN                                \n",
       "0971880107     4.390706         2502\n",
       "0316666343     8.185290         1295\n",
       "0385504209     8.426230          884\n",
       "0060928336     7.887500          732\n",
       "0312195516     8.182768          723"
      ]
     },
     "execution_count": 555,
     "metadata": {},
     "output_type": "execute_result"
    }
   ],
   "source": [
    "average_rating = pd.DataFrame(dataset1.groupby('ISBN')['Book-Rating'].mean())\n",
    "average_rating['ratingCount'] = pd.DataFrame(ratings.groupby('ISBN')['Book-Rating'].count())\n",
    "average_rating.sort_values('ratingCount', ascending=False).head()"
   ]
  },
  {
   "cell_type": "code",
   "execution_count": 556,
   "metadata": {
    "colab": {
     "base_uri": "https://localhost:8080/",
     "height": 255
    },
    "executionInfo": {
     "elapsed": 24185,
     "status": "ok",
     "timestamp": 1623912542547,
     "user": {
      "displayName": "Ashima IIITD",
      "photoUrl": "https://lh3.googleusercontent.com/a-/AOh14Gg51iTXizYDNTZkEdwmQ5GkwRQ8vp_9KTB8UVlC=s64",
      "userId": "02694856405090268186"
     },
     "user_tz": -330
    },
    "id": "NFkNNpoNT53I",
    "outputId": "542caebf-67c0-42eb-9613-609438cc11c4"
   },
   "outputs": [
    {
     "name": "stdout",
     "output_type": "stream",
     "text": [
      "\n",
      " Recommended Books: \n",
      "\n"
     ]
    },
    {
     "data": {
      "text/html": [
       "<div>\n",
       "<style scoped>\n",
       "    .dataframe tbody tr th:only-of-type {\n",
       "        vertical-align: middle;\n",
       "    }\n",
       "\n",
       "    .dataframe tbody tr th {\n",
       "        vertical-align: top;\n",
       "    }\n",
       "\n",
       "    .dataframe thead th {\n",
       "        text-align: right;\n",
       "    }\n",
       "</style>\n",
       "<table border=\"1\" class=\"dataframe\">\n",
       "  <thead>\n",
       "    <tr style=\"text-align: right;\">\n",
       "      <th></th>\n",
       "      <th>ISBN</th>\n",
       "      <th>Book-Title</th>\n",
       "      <th>Book-Author</th>\n",
       "      <th>Year-Of-Publication</th>\n",
       "      <th>Publisher</th>\n",
       "    </tr>\n",
       "  </thead>\n",
       "  <tbody>\n",
       "    <tr>\n",
       "      <th>0</th>\n",
       "      <td>0866254099</td>\n",
       "      <td>Rivermen (Wild West in American History)</td>\n",
       "      <td>Gail Stewart</td>\n",
       "      <td>1990</td>\n",
       "      <td>Rourke Pub Group</td>\n",
       "    </tr>\n",
       "    <tr>\n",
       "      <th>1</th>\n",
       "      <td>0373030320</td>\n",
       "      <td>Red Hot Pepper (Harlequin Romance, 3032)</td>\n",
       "      <td>Roz Denny</td>\n",
       "      <td>1990</td>\n",
       "      <td>Harlequin</td>\n",
       "    </tr>\n",
       "    <tr>\n",
       "      <th>2</th>\n",
       "      <td>0345340906</td>\n",
       "      <td>That's Not What I Meant: How Conversational Style Makes or Breaks Relationships</td>\n",
       "      <td>Deborah Tannen</td>\n",
       "      <td>1991</td>\n",
       "      <td>Ballantine Books</td>\n",
       "    </tr>\n",
       "    <tr>\n",
       "      <th>3</th>\n",
       "      <td>0553247646</td>\n",
       "      <td>Buckskin Run</td>\n",
       "      <td>LOUIS L'AMOUR</td>\n",
       "      <td>1981</td>\n",
       "      <td>Bantam</td>\n",
       "    </tr>\n",
       "    <tr>\n",
       "      <th>4</th>\n",
       "      <td>0307119777</td>\n",
       "      <td>The Biggest Dinosaurs (I Love Dinosaurs)</td>\n",
       "      <td>Michael Berenstain</td>\n",
       "      <td>1989</td>\n",
       "      <td>Golden Books</td>\n",
       "    </tr>\n",
       "    <tr>\n",
       "      <th>5</th>\n",
       "      <td>0671449621</td>\n",
       "      <td>No Bad Dogs</td>\n",
       "      <td>Barbara Woodhouse</td>\n",
       "      <td>1982</td>\n",
       "      <td>Simon &amp; Schuster</td>\n",
       "    </tr>\n",
       "    <tr>\n",
       "      <th>6</th>\n",
       "      <td>0395070627</td>\n",
       "      <td>Curious George Goes to the Hospital (Curious George)</td>\n",
       "      <td>H. A. Rey</td>\n",
       "      <td>1966</td>\n",
       "      <td>Houghton Mifflin</td>\n",
       "    </tr>\n",
       "    <tr>\n",
       "      <th>7</th>\n",
       "      <td>0525237704</td>\n",
       "      <td>World According to Garp: A Novel</td>\n",
       "      <td>John Irving</td>\n",
       "      <td>1978</td>\n",
       "      <td>Penguin USA</td>\n",
       "    </tr>\n",
       "    <tr>\n",
       "      <th>8</th>\n",
       "      <td>0671681567</td>\n",
       "      <td>INCA GOLD</td>\n",
       "      <td>Clive Cussler</td>\n",
       "      <td>1994</td>\n",
       "      <td>Simon &amp; Schuster</td>\n",
       "    </tr>\n",
       "    <tr>\n",
       "      <th>9</th>\n",
       "      <td>0316034347</td>\n",
       "      <td>The Wild Inside: Sierra Club's Guide to the Great Indoors</td>\n",
       "      <td>Linda Allison</td>\n",
       "      <td>1988</td>\n",
       "      <td>Little Brown &amp; Co</td>\n",
       "    </tr>\n",
       "  </tbody>\n",
       "</table>\n",
       "</div>"
      ],
      "text/plain": [
       "         ISBN  \\\n",
       "0  0866254099   \n",
       "1  0373030320   \n",
       "2  0345340906   \n",
       "3  0553247646   \n",
       "4  0307119777   \n",
       "5  0671449621   \n",
       "6  0395070627   \n",
       "7  0525237704   \n",
       "8  0671681567   \n",
       "9  0316034347   \n",
       "\n",
       "                                                                        Book-Title  \\\n",
       "0                                         Rivermen (Wild West in American History)   \n",
       "1                                         Red Hot Pepper (Harlequin Romance, 3032)   \n",
       "2  That's Not What I Meant: How Conversational Style Makes or Breaks Relationships   \n",
       "3                                                                     Buckskin Run   \n",
       "4                                         The Biggest Dinosaurs (I Love Dinosaurs)   \n",
       "5                                                                      No Bad Dogs   \n",
       "6                             Curious George Goes to the Hospital (Curious George)   \n",
       "7                                                 World According to Garp: A Novel   \n",
       "8                                                                        INCA GOLD   \n",
       "9                        The Wild Inside: Sierra Club's Guide to the Great Indoors   \n",
       "\n",
       "          Book-Author  Year-Of-Publication          Publisher  \n",
       "0        Gail Stewart                 1990   Rourke Pub Group  \n",
       "1           Roz Denny                 1990          Harlequin  \n",
       "2      Deborah Tannen                 1991   Ballantine Books  \n",
       "3       LOUIS L'AMOUR                 1981             Bantam  \n",
       "4  Michael Berenstain                 1989       Golden Books  \n",
       "5   Barbara Woodhouse                 1982   Simon & Schuster  \n",
       "6           H. A. Rey                 1966   Houghton Mifflin  \n",
       "7         John Irving                 1978        Penguin USA  \n",
       "8       Clive Cussler                 1994   Simon & Schuster  \n",
       "9       Linda Allison                 1988  Little Brown & Co  "
      ]
     },
     "execution_count": 556,
     "metadata": {},
     "output_type": "execute_result"
    }
   ],
   "source": [
    "isbn = books.loc[books['Book-Title'] == bookName].reset_index(drop = True).iloc[0]['ISBN']\n",
    "row = matrix[isbn]\n",
    "correlation = pd.DataFrame(matrix.corrwith(row), columns = ['Pearson Corr'])\n",
    "corr = correlation.join(average_rating['ratingCount'])\n",
    "\n",
    "res = corr.sort_values('Pearson Corr', ascending=False).head(number+1)[1:].index\n",
    "corr_books = pd.merge(pd.DataFrame(res, columns = ['ISBN']), books, on='ISBN')\n",
    "print(\"\\n Recommended Books: \\n\")\n",
    "corr_books"
   ]
  },
  {
   "cell_type": "markdown",
   "metadata": {
    "id": "y0Ci0b0MdTtX"
   },
   "source": [
    "<h5><b>8. Nearest Neighbours Based"
   ]
  },
  {
   "cell_type": "code",
   "execution_count": 557,
   "metadata": {
    "executionInfo": {
     "elapsed": 1918,
     "status": "ok",
     "timestamp": 1623912544451,
     "user": {
      "displayName": "Ashima IIITD",
      "photoUrl": "https://lh3.googleusercontent.com/a-/AOh14Gg51iTXizYDNTZkEdwmQ5GkwRQ8vp_9KTB8UVlC=s64",
      "userId": "02694856405090268186"
     },
     "user_tz": -330
    },
    "id": "VHzpuua9XDMA"
   },
   "outputs": [],
   "source": [
    "data = (dataset1.groupby(by = ['Book-Title'])['Book-Rating'].count().reset_index().\n",
    "        rename(columns = {'Book-Rating': 'Total-Rating'})[['Book-Title', 'Total-Rating']])\n",
    "\n",
    "result = pd.merge(data, dataset1, on='Book-Title', how='inner')\n",
    "result = result[result['Total-Rating'] >= popularity_threshold]\n",
    "result = result.reset_index(drop = True)\n",
    "\n",
    "matrix = result.pivot_table(index = 'Book-Title', columns = 'User-ID', values = 'Book-Rating').fillna(0)\n",
    "up_matrix = csr_matrix(matrix)"
   ]
  },
  {
   "cell_type": "code",
   "execution_count": 558,
   "metadata": {},
   "outputs": [],
   "source": [
    "model = NearestNeighbors(metric = 'cosine', algorithm = 'brute')\n",
    "model.fit(up_matrix)\n",
    "\n",
    "joblib.dump(model, \"./nn_model.joblib\")\n",
    "pickle.dump(matrix, open(\"./item_user.pkl\",\"wb\"))\n",
    "save_npz(\"./item_user_csr.npz\", up_matrix)"
   ]
  },
  {
   "cell_type": "code",
   "execution_count": 559,
   "metadata": {
    "colab": {
     "base_uri": "https://localhost:8080/"
    },
    "executionInfo": {
     "elapsed": 10,
     "status": "ok",
     "timestamp": 1623912544452,
     "user": {
      "displayName": "Ashima IIITD",
      "photoUrl": "https://lh3.googleusercontent.com/a-/AOh14Gg51iTXizYDNTZkEdwmQ5GkwRQ8vp_9KTB8UVlC=s64",
      "userId": "02694856405090268186"
     },
     "user_tz": -330
    },
    "id": "ljXA5pa6fWLE",
    "outputId": "86a3c600-a296-4d60-c34a-35f2db0b1818"
   },
   "outputs": [
    {
     "name": "stdout",
     "output_type": "stream",
     "text": [
      "\n",
      "Recommended books:\n",
      "\n",
      "The Joy Luck Club\n",
      "The Bonesetter's Daughter\n",
      "The Hundred Secret Senses\n",
      "Bridget Jones : The Edge of Reason\n",
      "Memoirs of a Geisha\n",
      "The Handmaid's Tale\n",
      "Tears of the Giraffe (No.1 Ladies Detective Agency)\n",
      "One Hundred Years of Solitude\n",
      "A Wrinkle in Time\n",
      "All Around the Town\n"
     ]
    }
   ],
   "source": [
    "distances, indices = model.kneighbors(matrix.loc[bookName].values.reshape(1, -1), n_neighbors = number+1)\n",
    "print(\"\\nRecommended books:\\n\")\n",
    "# for i in range(0, len(distances.flatten())):\n",
    "#     if i > 0:\n",
    "#         print(matrix.index[indices.flatten()[i]]) \n",
    "for idx in indices.flatten()[1:]:   # skip self at position 0\n",
    "    print(matrix.index[idx])"
   ]
  },
  {
   "cell_type": "markdown",
   "metadata": {
    "id": "szabjbQfynby"
   },
   "source": [
    "<h5><b>9. Content Based"
   ]
  },
  {
   "cell_type": "code",
   "execution_count": 560,
   "metadata": {
    "colab": {
     "base_uri": "https://localhost:8080/"
    },
    "executionInfo": {
     "elapsed": 9,
     "status": "ok",
     "timestamp": 1623912544452,
     "user": {
      "displayName": "Ashima IIITD",
      "photoUrl": "https://lh3.googleusercontent.com/a-/AOh14Gg51iTXizYDNTZkEdwmQ5GkwRQ8vp_9KTB8UVlC=s64",
      "userId": "02694856405090268186"
     },
     "user_tz": -330
    },
    "id": "W0XtLZRz984K",
    "outputId": "4273e2b5-9448-4d7d-ba17-a5afb0f3d35a"
   },
   "outputs": [
    {
     "data": {
      "text/plain": [
       "(44652, 6)"
      ]
     },
     "execution_count": 560,
     "metadata": {},
     "output_type": "execute_result"
    }
   ],
   "source": [
    "popularity_threshold = 80\n",
    "popular_book = df[df['Total-Ratings'] >= popularity_threshold]\n",
    "popular_book = popular_book.reset_index(drop = True)\n",
    "popular_book.shape"
   ]
  },
  {
   "cell_type": "code",
   "execution_count": 561,
   "metadata": {
    "colab": {
     "base_uri": "https://localhost:8080/"
    },
    "executionInfo": {
     "elapsed": 489,
     "status": "ok",
     "timestamp": 1623912544937,
     "user": {
      "displayName": "Ashima IIITD",
      "photoUrl": "https://lh3.googleusercontent.com/a-/AOh14Gg51iTXizYDNTZkEdwmQ5GkwRQ8vp_9KTB8UVlC=s64",
      "userId": "02694856405090268186"
     },
     "user_tz": -330
    },
    "id": "Hl5c0U0V99Z4",
    "outputId": "bdd805b7-5aaf-4f7b-fbe8-07a4fec80787"
   },
   "outputs": [
    {
     "data": {
      "text/plain": [
       "(44652, 1108)"
      ]
     },
     "execution_count": 561,
     "metadata": {},
     "output_type": "execute_result"
    }
   ],
   "source": [
    "tf = TfidfVectorizer(ngram_range=(1, 2), min_df = 1, stop_words='english')\n",
    "tfidf_matrix = tf.fit_transform(popular_book['Book-Title'])\n",
    "\n",
    "joblib.dump(tf, \"./tfidf_vectorizer.pkl\")\n",
    "save_npz(\"./tfidf_matrix.npz\", tfidf_matrix)\n",
    "# save metadata to map row-index -> ISBN/title\n",
    "joblib.dump(popular_book[['ISBN','Book-Title']].reset_index(drop=True), \"./popular_book_meta.pkl\")\n",
    "\n",
    "tfidf_matrix.shape"
   ]
  },
  {
   "cell_type": "code",
   "execution_count": 562,
   "metadata": {
    "colab": {
     "base_uri": "https://localhost:8080/"
    },
    "executionInfo": {
     "elapsed": 14440,
     "status": "ok",
     "timestamp": 1623912559376,
     "user": {
      "displayName": "Ashima IIITD",
      "photoUrl": "https://lh3.googleusercontent.com/a-/AOh14Gg51iTXizYDNTZkEdwmQ5GkwRQ8vp_9KTB8UVlC=s64",
      "userId": "02694856405090268186"
     },
     "user_tz": -330
    },
    "id": "ChPiIM2O4cE-",
    "outputId": "d4874175-1261-4591-e785-3e0a0b31fd19"
   },
   "outputs": [
    {
     "data": {
      "text/plain": [
       "(44652, 44652)"
      ]
     },
     "execution_count": 562,
     "metadata": {},
     "output_type": "execute_result"
    }
   ],
   "source": [
    "normalized_df = tfidf_matrix.astype(np.float32)\n",
    "cosine_similarities = cosine_similarity(normalized_df, normalized_df)\n",
    "cosine_similarities.shape"
   ]
  },
  {
   "cell_type": "code",
   "execution_count": 563,
   "metadata": {
    "colab": {
     "base_uri": "https://localhost:8080/"
    },
    "executionInfo": {
     "elapsed": 670,
     "status": "ok",
     "timestamp": 1623912560044,
     "user": {
      "displayName": "Ashima IIITD",
      "photoUrl": "https://lh3.googleusercontent.com/a-/AOh14Gg51iTXizYDNTZkEdwmQ5GkwRQ8vp_9KTB8UVlC=s64",
      "userId": "02694856405090268186"
     },
     "user_tz": -330
    },
    "id": "ZqGC4lR0GJGE",
    "outputId": "d4ab119d-ba62-4499-f727-71b0a3178093"
   },
   "outputs": [
    {
     "name": "stdout",
     "output_type": "stream",
     "text": [
      "Recommended Books:\n",
      "\n",
      "The Pilot's Wife : A Novel\n",
      "The God of Small Things\n",
      "The Rainmaker\n",
      "The Cider House Rules\n",
      "What Looks Like Crazy On An Ordinary Day\n",
      "Cradle and All\n",
      "Flesh and Blood\n",
      "The Partner\n",
      "The Runaway Jury\n",
      "The Hundred Secret Senses\n"
     ]
    }
   ],
   "source": [
    "print(\"Recommended Books:\\n\")\n",
    "isbn = books.loc[books['Book-Title'] == bookName].reset_index(drop = True).iloc[0]['ISBN']\n",
    "content = []\n",
    "\n",
    "idx = popular_book.index[popular_book['ISBN'] == isbn].tolist()[0]\n",
    "similar_indices = cosine_similarities[idx].argsort()[::-1]\n",
    "similar_items = []\n",
    "for i in similar_indices:\n",
    "    if popular_book['Book-Title'][i] != bookName and popular_book['Book-Title'][i] not in similar_items and len(similar_items) < number:\n",
    "        similar_items.append(popular_book['Book-Title'][i])\n",
    "        content.append(popular_book['Book-Title'][i])\n",
    "\n",
    "for book in similar_items:\n",
    "    print(book)"
   ]
  },
  {
   "cell_type": "markdown",
   "metadata": {
    "id": "o8QpuMrECO_E"
   },
   "source": [
    "<b><h5>10. Hybrid Approach (Content+Collaborative) Using percentile"
   ]
  },
  {
   "cell_type": "code",
   "execution_count": 564,
   "metadata": {
    "colab": {
     "base_uri": "https://localhost:8080/"
    },
    "executionInfo": {
     "elapsed": 11,
     "status": "ok",
     "timestamp": 1623912560045,
     "user": {
      "displayName": "Ashima IIITD",
      "photoUrl": "https://lh3.googleusercontent.com/a-/AOh14Gg51iTXizYDNTZkEdwmQ5GkwRQ8vp_9KTB8UVlC=s64",
      "userId": "02694856405090268186"
     },
     "user_tz": -330
    },
    "id": "hFprQgdiO4Pg",
    "outputId": "a581c0f9-ad56-40ba-a981-ebf62505cfe8"
   },
   "outputs": [
    {
     "name": "stdout",
     "output_type": "stream",
     "text": [
      "Input Book:\n",
      "\n",
      "The Kitchen God's Wife\n",
      "\n",
      "Recommended Books:\n",
      "\n",
      "0385043805\n",
      "The Pilot's Wife : A Novel\n",
      "0785799524\n",
      "The God of Small Things\n",
      "0792727770\n",
      "The Rainmaker\n",
      "0446679100\n",
      "The Cider House Rules\n",
      "1568657587\n",
      "What Looks Like Crazy On An Ordinary Day\n"
     ]
    }
   ],
   "source": [
    "z = list()\n",
    "k = float(1/number)\n",
    "for x in range(number):\n",
    "      z.append(1-k*x)\n",
    "\n",
    "dictISBN = {}\n",
    "for x in recs:\n",
    "      dictISBN[x] = z[recs.index(x)]\n",
    "\n",
    "for x in content:\n",
    "    if x not in dictISBN:\n",
    "        dictISBN[x] = z[content.index(x)]\n",
    "    else:\n",
    "        dictISBN[x] += z[content.index(x)]\n",
    "\n",
    "ISBN = dict(sorted(dictISBN.items(),key=operator.itemgetter(1),reverse=True))\n",
    "w=0\n",
    "print(\"Input Book:\\n\")\n",
    "print(bookName)\n",
    "print(\"\\nRecommended Books:\\n\")\n",
    "for x in ISBN.keys():\n",
    "    if w>=number:\n",
    "        break\n",
    "    w+=1\n",
    "    print(x)"
   ]
  }
 ],
 "metadata": {
  "colab": {
   "collapsed_sections": [],
   "name": "BRS.ipynb",
   "provenance": []
  },
  "kernelspec": {
   "display_name": "Python 3",
   "language": "python",
   "name": "python3"
  },
  "language_info": {
   "codemirror_mode": {
    "name": "ipython",
    "version": 3
   },
   "file_extension": ".py",
   "mimetype": "text/x-python",
   "name": "python",
   "nbconvert_exporter": "python",
   "pygments_lexer": "ipython3",
   "version": "3.11.8"
  }
 },
 "nbformat": 4,
 "nbformat_minor": 1
}
